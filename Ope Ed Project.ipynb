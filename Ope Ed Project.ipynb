{
 "cells": [
  {
   "cell_type": "markdown",
   "metadata": {},
   "source": [
    "***Michael McCormack***\n",
    "\n",
    "In the Week 04 file folder you'll find the anonymous New York op ed from September 5, 2018, together with samples of writings of the main suspects. \n",
    "\n",
    "Use any tools you like to figure out who wrote the op ed. If you can find more writings of these people, please send them my way.\n",
    "\n"
   ]
  },
  {
   "cell_type": "markdown",
   "metadata": {},
   "source": [
    "How I approached this problem - \n",
    "\n",
    "Let me first say that this is a incredibly interesting problem that demonstrates a very relevant application of NLP.  I had a lot of fun doing this project. \n",
    "\n",
    "I began by doing some exploring on the internet.  I came across this idea of determining author based on sentence structure.  Below is an example of this idea used in a Kaggle competition.\n",
    "\n",
    "https://www.kaggle.com/christopher22/stylometry-identify-authors-by-sentence-structure/notebook\n",
    "\n",
    "Basically the idea is that you break down each training document by sentence and add a label for the author of each sentence.  "
   ]
  },
  {
   "cell_type": "markdown",
   "metadata": {},
   "source": [
    "I start off by reading in the training files into pandas DataFrames.  I then add a column indicating the author Next I concatenate all the dataframes together so"
   ]
  },
  {
   "cell_type": "code",
   "execution_count": 18,
   "metadata": {},
   "outputs": [
    {
     "name": "stdout",
     "output_type": "stream",
     "text": [
      "there are  1069 sentences\n"
     ]
    }
   ],
   "source": [
    "import pandas as pd\n",
    "import matplotlib.pyplot as plt\n",
    "import collections\n",
    "from sklearn.feature_extraction.text import TfidfVectorizer\n",
    "from sklearn.svm import LinearSVC\n",
    "from sklearn.model_selection import train_test_split\n",
    "import numpy as np\n",
    "import re\n",
    "import nltk\n",
    "\n",
    "\n",
    "with open('Dan Coats.txt', 'r+') as in_file:\n",
    "    textDan = in_file.read()\n",
    "    sentsDan = nltk.sent_tokenize(textDan)\n",
    "    \n",
    "pdDan = pd.DataFrame({'sentence':sentsDan})\n",
    "pdDan['author'] = 'Dan Coats'\n",
    "\n",
    "\n",
    "with open('James Mattis.txt', 'r+') as in_file:\n",
    "    textMattis = in_file.read()\n",
    "    sentsMattis = nltk.sent_tokenize(textMattis)\n",
    "    \n",
    "pdMattis = pd.DataFrame({'sentence':sentsMattis})\n",
    "pdMattis['author'] = 'James Mattis'\n",
    "\n",
    "\n",
    "with open('John Kelly.txt', 'r+') as in_file:\n",
    "    textKelly = in_file.read()\n",
    "    sentsKelly = nltk.sent_tokenize(textKelly)\n",
    "    \n",
    "pdKelly = pd.DataFrame({'sentence':sentsKelly})\n",
    "pdKelly['author'] = 'John Kelly'\n",
    "\n",
    "\n",
    "with open('Kevin Hassett.txt', 'r+') as in_file:\n",
    "    textHassett = in_file.read()\n",
    "    sentsHassett = nltk.sent_tokenize(textHassett)\n",
    "    \n",
    "pdHassett = pd.DataFrame({'sentence':sentsHassett})\n",
    "pdHassett['author'] = 'Kevin Hassett'\n",
    "\n",
    "with open('Kirstjen Nielsen.txt', 'r+') as in_file:\n",
    "    textNielsen = in_file.read()\n",
    "    sentsNielsen = nltk.sent_tokenize(textNielsen)\n",
    "    \n",
    "pdNielsen = pd.DataFrame({'sentence':sentsNielsen})\n",
    "pdNielsen['author'] = 'Kirstjen Nielsen'\n",
    "\n",
    "with open('Larry Kudlow.txt', 'r+') as in_file:\n",
    "    textKudlow = in_file.read()\n",
    "    sentsKudlow = nltk.sent_tokenize(textKudlow)\n",
    "    \n",
    "pdKudlow = pd.DataFrame({'sentence':sentsKudlow})\n",
    "pdKudlow['author'] = 'Larry Kudlow'\n",
    "\n",
    "\n",
    "with open('Mike Pence.txt', 'r+') as in_file:\n",
    "    textPence = in_file.read()\n",
    "    sentsPence = nltk.sent_tokenize(textPence)\n",
    "    \n",
    "pdPence = pd.DataFrame({'sentence':sentsPence})\n",
    "pdPence['author'] = 'Mike Pence'\n",
    "\n",
    "with open('Mike Pompeo.txt', 'r+') as in_file:\n",
    "    textPompeo = in_file.read()\n",
    "    sentsPompeo = nltk.sent_tokenize(textPompeo)\n",
    "    \n",
    "pdPompeo = pd.DataFrame({'sentence':sentsPompeo})\n",
    "pdPompeo['author'] = 'Mike Pompeo'\n",
    "\n",
    "\n",
    "\n",
    "train = pd.DataFrame()\n",
    "train = pd.concat([pdDan, pdMattis,pdKelly,pdHassett,pdNielsen,pdKudlow,pdPence,pdPompeo])\n",
    "\n",
    "author_to_num ={'Dan Coats': \"Chicken\", 'James Mattis': \"Punk\", \n",
    "                'John Kelly': \"perp\", 'Kevin Hassett': \"Garbage\",\n",
    "                  'Kirstjen Nielsen': \"Scum\", 'Larry Kudlow': \"Toilet\", \n",
    "                'Mike Pence': \"Poop\", 'Mike Pompeo': \"Yuck\"}\n",
    "\n",
    "train[\"author\"].replace(author_to_num, inplace=True)\n",
    "\n",
    "# Convert the author strings into numbers\n",
    "#train['author'] = train['author'].apply(lambda x: possibleAuthors[x])\n",
    "#print(train)\n",
    "\n",
    "#print(train)\n",
    "text = train['sentence'] # sentences\n",
    "author = train['author'].tolist()\n",
    "print(\"there are \", len(text), \"sentences\")\n",
    "\n",
    "\n"
   ]
  },
  {
   "cell_type": "code",
   "execution_count": null,
   "metadata": {},
   "outputs": [],
   "source": []
  },
  {
   "cell_type": "code",
   "execution_count": 19,
   "metadata": {},
   "outputs": [
    {
     "name": "stdout",
     "output_type": "stream",
     "text": [
      "the tf-idf vectors have  22467 dimensions\n",
      "The Linear SVC model is accurate:  70.93 % of the time.\n"
     ]
    }
   ],
   "source": [
    "vectorizer = TfidfVectorizer(ngram_range=(1,2), min_df=0)\n",
    "vectors = vectorizer.fit_transform(text)\n",
    "print(\"the tf-idf vectors have \", vectors.shape[-1], \"dimensions\")\n",
    "\n",
    "\n",
    "#tvect = TfidfVectorizer(min_df=1, max_df=1)\n",
    "#X_train = tvect.fit_transform(text)\n",
    "\n",
    "# #X_train, X_test, y_train, y_test = train_test_split(vectors, author, test_size=0.2, random_state=1337)\n",
    "\n",
    "\n",
    "# svm = LinearSVC()\n",
    "# svm.fit(X_train, author)\n",
    "\n",
    "### Test the model\n",
    "X_train, X_test, y_train, y_test = train_test_split(vectors, author, test_size=0.35, random_state=1337)\n",
    "svm = LinearSVC()\n",
    "svm.fit(X_train, y_train)\n",
    "\n",
    "predictions = svm.predict(X_test)\n",
    "#print(list(predictions[0:10]))\n",
    " \n",
    "from sklearn.metrics import accuracy_score\n",
    "print(\"The Linear SVC model is accurate: \", round((accuracy_score(y_test, predictions) *100),2), \"% of the time.\")\n",
    "\n",
    "# predictions = svm.predict(X_test)\n",
    "# print(list(predictions[0:10]))\n",
    "# print(y_test[:10])"
   ]
  },
  {
   "cell_type": "code",
   "execution_count": 20,
   "metadata": {},
   "outputs": [
    {
     "name": "stdout",
     "output_type": "stream",
     "text": [
      "                                             sentence\n",
      "0   I Am Part of the Resistance Inside the Trump A...\n",
      "1   President Trump is facing a test to his presid...\n",
      "2   It’s not just that the special counsel looms l...\n",
      "3   Or that the country is bitterly divided over M...\n",
      "4   Or even that his party might well lose the Hou...\n",
      "5   The dilemma — which he does not fully grasp — ...\n",
      "6                                       I would know.\n",
      "7                                   I am one of them.\n",
      "8   To be clear, ours is not the popular “resistan...\n",
      "9   We want the administration to succeed and thin...\n",
      "10  But we believe our first duty is to this count...\n",
      "11  That is why many Trump appointees have vowed t...\n",
      "12  The root of the problem is the president’s amo...\n",
      "13  Anyone who works with him knows he is not moor...\n",
      "14  Although he was elected as a Republican, the p...\n",
      "15  At best, he has invoked these ideals in script...\n",
      "16           At worst, he has attacked them outright.\n",
      "17  In addition to his mass-marketing of the notio...\n",
      "18                                Don’t get me wrong.\n",
      "19  There are bright spots that the near-ceaseless...\n",
      "20  But these successes have come despite — not be...\n",
      "21  From the White House to executive branch depar...\n",
      "22  Most are working to insulate their operations ...\n",
      "23  Meetings with him veer off topic and off the r...\n",
      "24  “There is literally no telling whether he migh...\n",
      "25  The erratic behavior would be more concerning ...\n",
      "26  Some of his aides have been cast as villains b...\n",
      "27  But in private, they have gone to great length...\n",
      "28  It may be cold comfort in this chaotic era, bu...\n",
      "29              We fully recognize what is happening.\n",
      "30  And we are trying to do what’s right even when...\n",
      "31              The result is a two-track presidency.\n",
      "32  Take foreign policy: In public and in private,...\n",
      "33  Astute observers have noted, though, that the ...\n",
      "34  On Russia, for instance, the president was rel...\n",
      "35  He complained for weeks about senior staff mem...\n",
      "36  But his national security team knew better — s...\n",
      "37   This isn’t the work of the so-called deep state.\n",
      "38                 It’s the work of the steady state.\n",
      "39  Given the instability many witnessed, there we...\n",
      "40  But no one wanted to precipitate a constitutio...\n",
      "41  So we will do what we can to steer the adminis...\n",
      "42  The bigger concern is not what Mr. Trump has d...\n",
      "43  We have sunk low with him and allowed our disc...\n",
      "44  Senator John McCain put it best in his farewel...\n",
      "45  All Americans should heed his words and break ...\n",
      "  Author  Count  Probability  logLikelihood\n",
      "0   Yuck      1          1.0            0.0 \n",
      "\n",
      "\n",
      "The predicted author is:  Yuck\n"
     ]
    }
   ],
   "source": [
    "#opEd = pd.read_table(\"OpEd.txt\", header =None)\n",
    "#opEd.columns = ['text']\n",
    "\n",
    "#test = opEd['text'].tolist()\n",
    "\n",
    "\n",
    "with open('OpEd.txt', 'r+') as in_file:\n",
    "    textOpEd = in_file.read()\n",
    "    sentsOpEd = nltk.sent_tokenize(textOpEd)\n",
    "\n",
    "\n",
    "test = pd.DataFrame({'sentence':sentsOpEd})\n",
    "print(test)\n",
    "\n",
    "X_test=vectorizer.transform(test)\n",
    "\n",
    "# testVector = vectorizer.fit_transform(test)\n",
    "# X_test=vectorizer.transform(test)\n",
    "# print(vectors.shape)\n",
    "\n",
    "\n",
    "predictions = svm.predict(X_test)\n",
    "\n",
    "#predictedAuthor = mode(predictions)\n",
    "\n",
    "\n",
    "predictedAuthordf = pd.DataFrame(predictions)\n",
    "predictedAuthordf.columns = ['Author']\n",
    "predictedAuthordf = predictedAuthordf['Author'].value_counts().reset_index()\n",
    "predictedAuthordf = pd.DataFrame(predictedAuthordf)\n",
    "predictedAuthordf.columns = ['Author','Count']\n",
    "predictedAuthordf[\"Probability\"] = predictedAuthordf[\"Count\"]/(predictedAuthordf['Count'].sum())\n",
    "predictedAuthordf[\"logLikelihood\"] = np.log( predictedAuthordf[\"Probability\"])\n",
    "\n",
    "prediction = predictedAuthordf['logLikelihood'].idxmax()\n",
    "predictedAuthor = predictedAuthordf.at[prediction,'Author']\n",
    "\n",
    "print(predictedAuthordf,\"\\n\\n\")\n",
    "\n",
    "\n",
    "#predictedAuthor = (list(possibleAuthors.keys())[list(possibleAuthors.values()).index(predictedAuthor)]) \n",
    "print(\"The predicted author is: \", predictedAuthor)"
   ]
  },
  {
   "cell_type": "markdown",
   "metadata": {},
   "source": [
    "Visualizing prediction distribution"
   ]
  },
  {
   "cell_type": "code",
   "execution_count": 21,
   "metadata": {},
   "outputs": [
    {
     "data": {
      "image/png": "[encoded data removed]",
      "text/plain": [
       "<matplotlib.figure.Figure at 0x1a1cb929e8>"
      ]
     },
     "metadata": {},
     "output_type": "display_data"
    },
    {
     "data": {
      "image/png": "[encoded data removed]",
      "text/plain": [
       "<matplotlib.figure.Figure at 0x1a1c728cf8>"
      ]
     },
     "metadata": {},
     "output_type": "display_data"
    }
   ],
   "source": [
    "\n",
    "\n",
    "bins = len(set(predictions))\n",
    "\n",
    "plt.hist(predictions, color = \"skyblue\", normed=True, align=\"mid\",bins= bins)\n",
    "plt.xticks(range(bins))\n",
    "plt.ylabel(\"Probability\",fontsize=16)\n",
    "plt.xlabel(\"Author\",fontsize=16)\n",
    "plt.title(\"Distribution of Predictions\",fontsize=20)\n",
    "\n",
    "plt.show()\n",
    "\n",
    "\n",
    "\n",
    "\n",
    "c = collections.Counter(predictions)\n",
    "c = sorted(c.items())\n",
    "months_num = [i[0] for i in c]\n",
    "freq = [i[1] for i in c]\n",
    "\n",
    "suffixes = []\n",
    "for item in months_num:\n",
    "    suffixes.append(item.split()[-1])\n",
    "    \n",
    "    \n",
    "\n",
    "plt.bar(suffixes, freq)\n",
    "plt.xlabel(\"Author\",fontsize=16)\n",
    "plt.ylabel(\"Count\",fontsize=16)\n",
    "plt.title(\"Counts of Predicted Authors\", fontsize=20)\n",
    "plt.show()\n"
   ]
  },
  {
   "cell_type": "code",
   "execution_count": null,
   "metadata": {},
   "outputs": [],
   "source": []
  },
  {
   "cell_type": "code",
   "execution_count": null,
   "metadata": {},
   "outputs": [],
   "source": []
  },
  {
   "cell_type": "code",
   "execution_count": null,
   "metadata": {},
   "outputs": [],
   "source": []
  }
 ],
 "metadata": {
  "kernelspec": {
   "display_name": "Python 3",
   "language": "python",
   "name": "python3"
  },
  "language_info": {
   "codemirror_mode": {
    "name": "ipython",
    "version": 3
   },
   "file_extension": ".py",
   "mimetype": "text/x-python",
   "name": "python",
   "nbconvert_exporter": "python",
   "pygments_lexer": "ipython3",
   "version": "3.6.4"
  }
 },
 "nbformat": 4,
 "nbformat_minor": 2
}
