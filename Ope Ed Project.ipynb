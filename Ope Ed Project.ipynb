{
 "cells": [
  {
   "cell_type": "markdown",
   "metadata": {},
   "source": [
    "***Michael McCormack***\n",
    "\n",
    "In the Week 04 file folder you'll find the anonymous New York op ed from September 5, 2018, together with samples of writings of the main suspects. \n",
    "\n",
    "Use any tools you like to figure out who wrote the op ed. If you can find more writings of these people, please send them my way.\n",
    "\n"
   ]
  },
  {
   "cell_type": "markdown",
   "metadata": {},
   "source": [
    "How I approached this problem - \n",
    "\n",
    "Let me first say that this is a incredibly interesting problem that demonstrates a very relevant application of NLP.  I had a lot of fun doing this project. \n",
    "\n",
    "I began by doing some exploring on the internet.  I came across this idea of determining author based on sentence structure.  Below is an example of this idea used in a Kaggle competition.\n",
    "\n",
    "https://www.kaggle.com/christopher22/stylometry-identify-authors-by-sentence-structure/notebook\n",
    "\n",
    "Basically the idea is that you break down each training document by sentence and add a label for the author of each sentence.  "
   ]
  },
  {
   "cell_type": "markdown",
   "metadata": {},
   "source": [
    "I start off by reading in the training files into pandas DataFrames.  I then add a column indicating the author Next I concatenate all the dataframes together so"
   ]
  },
  {
   "cell_type": "code",
   "execution_count": 8,
   "metadata": {},
   "outputs": [
    {
     "name": "stdout",
     "output_type": "stream",
     "text": [
      "there are  847 sentences\n"
     ]
    }
   ],
   "source": [
    "import pandas as pd\n",
    "import matplotlib.pyplot as plt\n",
    "import collections\n",
    "from sklearn.feature_extraction.text import TfidfVectorizer\n",
    "from sklearn.svm import LinearSVC\n",
    "from sklearn.model_selection import train_test_split\n",
    "import numpy as np\n",
    "\n",
    "\n",
    "#possibleAuthors ={'Dan Coats':0, 'James Mattis':1, 'John Kelly':2, 'Kevin Hassett':3,\n",
    " #                 'Kirstjen Nielsen':4, 'Larry Kudlow':5, 'Mike Pence':6, 'Mike Pompeo':7}\n",
    "\n",
    "\n",
    "Coats = pd.read_table(\"Dan Coats.txt\", header =None)\n",
    "Coats.columns = ['text']\n",
    "Coats['author'] = 'Dan Coats'\n",
    "\n",
    "Mattis = pd.read_table(\"James Mattis.txt\", header =None)\n",
    "Mattis.columns = ['text']\n",
    "Mattis['author'] = 'James Mattis'\n",
    "\n",
    "Kelly = pd.read_table(\"John Kelly.txt\", header =None)\n",
    "Kelly.columns = ['text']\n",
    "Kelly['author'] = 'John Kelly'\n",
    "\n",
    "Hassett = pd.read_table(\"Kevin Hassett.txt\", header =None)\n",
    "Hassett.columns = ['text']\n",
    "Hassett['author'] = 'Kevin Hassett'\n",
    "\n",
    "Nielsen = pd.read_table(\"Kirstjen Nielsen.txt\", header =None)\n",
    "Nielsen.columns = ['text']\n",
    "Nielsen['author'] = 'Kirstjen Nielsen'\n",
    "\n",
    "Kudlow = pd.read_table(\"Larry Kudlow.txt\", header =None)\n",
    "Kudlow.columns = ['text']\n",
    "Kudlow['author'] = 'Larry Kudlow'\n",
    "\n",
    "Pence = pd.read_table(\"Mike Pence.txt\", header =None)\n",
    "Pence.columns = ['text']\n",
    "Pence['author'] = 'Mike Pence'\n",
    "\n",
    "Pompeo = pd.read_table(\"Mike Pompeo.txt\", header =None)\n",
    "Pompeo.columns = ['text']\n",
    "Pompeo['author'] = 'Mike Pompeo'\n",
    "\n",
    "train = pd.DataFrame()\n",
    "train = pd.concat([Coats, Mattis,Kelly,Hassett,Nielsen,Kudlow,Pence,Pompeo])\n",
    "\n",
    "# Convert the author strings into numbers\n",
    "#train['author'] = train['author'].apply(lambda x: possibleAuthors[x])\n",
    "#print(train)\n",
    "\n",
    "\n",
    "text = train['text'].tolist()  # sentences\n",
    "author = train['author'].tolist()\n",
    "print(\"there are \", len(text), \"sentences\")"
   ]
  },
  {
   "cell_type": "code",
   "execution_count": 9,
   "metadata": {},
   "outputs": [
    {
     "name": "stdout",
     "output_type": "stream",
     "text": [
      "the tf-idf vectors have  2332 dimensions\n",
      "The Linear SVC model is accurate:  84.91 % of the time.\n"
     ]
    }
   ],
   "source": [
    "vectorizer = TfidfVectorizer(ngram_range=(1,2), min_df=3)\n",
    "vectors = vectorizer.fit_transform(text)\n",
    "print(\"the tf-idf vectors have \", vectors.shape[-1], \"dimensions\")\n",
    "\n",
    "\n",
    "# tvect = TfidfVectorizer(min_df=1, max_df=1)\n",
    "# X_train = tvect.fit_transform(text)\n",
    "\n",
    "# #X_train, X_test, y_train, y_test = train_test_split(vectors, author, test_size=0.2, random_state=1337)\n",
    "\n",
    "\n",
    "# svm = LinearSVC()\n",
    "# svm.fit(X_train, author)\n",
    "\n",
    "### Test the model\n",
    "X_train, X_test, y_train, y_test = train_test_split(vectors, author, test_size=0.25, random_state=1337)\n",
    "svm = LinearSVC()\n",
    "svm.fit(X_train, y_train)\n",
    "\n",
    "predictions = svm.predict(X_test)\n",
    "#print(list(predictions[0:10]))\n",
    " \n",
    "from sklearn.metrics import accuracy_score\n",
    "print(\"The Linear SVC model is accurate: \", round((accuracy_score(y_test, predictions) *100),2), \"% of the time.\")\n",
    "\n",
    "# predictions = svm.predict(X_test)\n",
    "# print(list(predictions[0:10]))\n",
    "# print(y_test[:10])"
   ]
  },
  {
   "cell_type": "code",
   "execution_count": 5,
   "metadata": {},
   "outputs": [
    {
     "name": "stdout",
     "output_type": "stream",
     "text": [
      "          Author  Count  Probability  logLikelihood\n",
      "0     John Kelly     10     0.370370      -0.993252\n",
      "1   Larry Kudlow      7     0.259259      -1.349927\n",
      "2  Kevin Hassett      4     0.148148      -1.909543\n",
      "3    Mike Pompeo      4     0.148148      -1.909543\n",
      "4      Dan Coats      2     0.074074      -2.602690 \n",
      "\n",
      "\n",
      "The predicted author is:  John Kelly\n"
     ]
    }
   ],
   "source": [
    "opEd = pd.read_table(\"OpEd.txt\", header =None)\n",
    "opEd.columns = ['text']\n",
    "\n",
    "test = opEd['text'].tolist()\n",
    "\n",
    "X_test=vectorizer.transform(test)\n",
    "\n",
    "# testVector = vectorizer.fit_transform(test)\n",
    "# X_test=vectorizer.transform(test)\n",
    "# print(vectors.shape)\n",
    "\n",
    "\n",
    "predictions = svm.predict(X_test)\n",
    "\n",
    "#predictedAuthor = mode(predictions)\n",
    "\n",
    "\n",
    "predictedAuthordf = pd.DataFrame(predictions)\n",
    "predictedAuthordf.columns = ['Author']\n",
    "predictedAuthordf = predictedAuthordf['Author'].value_counts().reset_index()\n",
    "predictedAuthordf = pd.DataFrame(predictedAuthordf)\n",
    "predictedAuthordf.columns = ['Author','Count']\n",
    "predictedAuthordf[\"Probability\"] = predictedAuthordf[\"Count\"]/(predictedAuthordf['Count'].sum())\n",
    "predictedAuthordf[\"logLikelihood\"] = np.log( predictedAuthordf[\"Probability\"])\n",
    "\n",
    "prediction = predictedAuthordf['logLikelihood'].idxmax()\n",
    "predictedAuthor = predictedAuthordf.at[prediction,'Author']\n",
    "\n",
    "print(predictedAuthordf,\"\\n\\n\")\n",
    "\n",
    "\n",
    "#predictedAuthor = (list(possibleAuthors.keys())[list(possibleAuthors.values()).index(predictedAuthor)]) \n",
    "print(\"The predicted author is: \", predictedAuthor)"
   ]
  },
  {
   "cell_type": "markdown",
   "metadata": {},
   "source": [
    "Visualizing prediction distribution"
   ]
  },
  {
   "cell_type": "code",
   "execution_count": 19,
   "metadata": {},
   "outputs": [
    {
     "data": {
      "image/png": "[encoded data removed]",
      "text/plain": [
       "<Figure size 432x288 with 1 Axes>"
      ]
     },
     "metadata": {
      "needs_background": "light"
     },
     "output_type": "display_data"
    },
    {
     "data": {
      "image/png": "[encoded data removed]",
      "text/plain": [
       "<Figure size 432x288 with 1 Axes>"
      ]
     },
     "metadata": {
      "needs_background": "light"
     },
     "output_type": "display_data"
    }
   ],
   "source": [
    "\n",
    "\n",
    "bins = len(set(predictions))\n",
    "\n",
    "plt.hist(predictions, color = \"skyblue\", normed=True, align=\"mid\",bins= bins)\n",
    "plt.xticks(range(bins))\n",
    "plt.ylabel(\"Probability\",fontsize=16)\n",
    "plt.xlabel(\"Author\",fontsize=16)\n",
    "plt.title(\"Distribution of Predictions\",fontsize=20)\n",
    "\n",
    "plt.show()\n",
    "\n",
    "\n",
    "\n",
    "\n",
    "c = collections.Counter(predictions)\n",
    "c = sorted(c.items())\n",
    "months_num = [i[0] for i in c]\n",
    "freq = [i[1] for i in c]\n",
    "\n",
    "suffixes = []\n",
    "for item in months_num:\n",
    "    suffixes.append(item.split()[-1])\n",
    "    \n",
    "    \n",
    "\n",
    "plt.bar(suffixes, freq)\n",
    "plt.xlabel(\"Author\",fontsize=16)\n",
    "plt.ylabel(\"Count\",fontsize=16)\n",
    "plt.title(\"Counts of Predicted Authors\", fontsize=20)\n",
    "plt.show()\n"
   ]
  },
  {
   "cell_type": "code",
   "execution_count": null,
   "metadata": {},
   "outputs": [],
   "source": []
  }
 ],
 "metadata": {
  "kernelspec": {
   "display_name": "Python 3",
   "language": "python",
   "name": "python3"
  },
  "language_info": {
   "codemirror_mode": {
    "name": "ipython",
    "version": 3
   },
   "file_extension": ".py",
   "mimetype": "text/x-python",
   "name": "python",
   "nbconvert_exporter": "python",
   "pygments_lexer": "ipython3",
   "version": "3.6.4"
  }
 },
 "nbformat": 4,
 "nbformat_minor": 2
}
