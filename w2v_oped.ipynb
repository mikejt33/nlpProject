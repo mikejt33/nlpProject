{
 "cells": [
  {
   "cell_type": "code",
   "execution_count": 10,
   "metadata": {},
   "outputs": [],
   "source": [
    "import pandas as pd\n",
    "import matplotlib.pyplot as plt\n",
    "import collections\n",
    "from sklearn.feature_extraction.text import TfidfVectorizer\n",
    "from sklearn.svm import LinearSVC\n",
    "from sklearn.model_selection import train_test_split\n",
    "import numpy as np\n",
    "from gensim.models.doc2vec import Doc2Vec, TaggedDocument\n",
    "import multiprocessing"
   ]
  },
  {
   "cell_type": "code",
   "execution_count": 11,
   "metadata": {},
   "outputs": [],
   "source": [
    "Coats = pd.read_table(\"Dan Coats.txt\", header =None)\n",
    "Coats.columns = ['text']\n",
    "Coats['author'] = 'Dan Coats'\n",
    "\n",
    "Mattis = pd.read_table(\"James Mattis.txt\", header =None)\n",
    "Mattis.columns = ['text']\n",
    "Mattis['author'] = 'James Mattis'\n",
    "\n",
    "Kelly = pd.read_table(\"John Kelly.txt\", header =None)\n",
    "Kelly.columns = ['text']\n",
    "Kelly['author'] = 'John Kelly'\n",
    "\n",
    "Hassett = pd.read_table(\"Kevin Hassett.txt\", header =None)\n",
    "Hassett.columns = ['text']\n",
    "Hassett['author'] = 'Kevin Hassett'\n",
    "\n",
    "Nielsen = pd.read_table(\"Kirstjen Nielsen.txt\", header =None)\n",
    "Nielsen.columns = ['text']\n",
    "Nielsen['author'] = 'Kirstjen Nielsen'\n",
    "\n",
    "Kudlow = pd.read_table(\"Larry Kudlow.txt\", header =None)\n",
    "Kudlow.columns = ['text']\n",
    "Kudlow['author'] = 'Larry Kudlow'\n",
    "\n",
    "Pence = pd.read_table(\"Mike Pence.txt\", header =None)\n",
    "Pence.columns = ['text']\n",
    "Pence['author'] = 'Mike Pence'\n",
    "\n",
    "Pompeo = pd.read_table(\"Mike Pompeo.txt\", header =None)\n",
    "Pompeo.columns = ['text']\n",
    "Pompeo['author'] = 'Mike Pompeo'\n",
    "\n",
    "train = pd.DataFrame()\n",
    "train = pd.concat([Coats, Mattis,Kelly,Hassett,Nielsen,Kudlow,Pence,Pompeo])\n",
    "\n",
    "# Convert the author strings into numbers\n",
    "#train['author'] = train['author'].apply(lambda x: possibleAuthors[x])\n",
    "#print(train)\n",
    "\n",
    "\n",
    "text = train['text'].tolist()\n",
    "author = train['author'].tolist()"
   ]
  },
  {
   "cell_type": "code",
   "execution_count": 12,
   "metadata": {},
   "outputs": [],
   "source": [
    "documents = [TaggedDocument(doc, [i]) for i, doc in enumerate(text)]"
   ]
  },
  {
   "cell_type": "code",
   "execution_count": 13,
   "metadata": {},
   "outputs": [
    {
     "data": {
      "text/plain": [
       "[TaggedDocument(words='Good evening, and sincere thanks to the Atlantic Council, Le Figaro, and the Tocqueville Foundation for organizing this important conversation about Democracy in the West.\\xa0', tags=[0]),\n",
       " TaggedDocument(words='I enjoyed catching up with Atlantic council board member and a long-time friend Ambassador Boyden Gray and the Atlantic Council’s Executive Vice President Damon Wilson just a few minutes ago.', tags=[1])]"
      ]
     },
     "execution_count": 13,
     "metadata": {},
     "output_type": "execute_result"
    }
   ],
   "source": [
    "documents[:2]"
   ]
  },
  {
   "cell_type": "code",
   "execution_count": 16,
   "metadata": {},
   "outputs": [
    {
     "name": "stdout",
     "output_type": "stream",
     "text": [
      "Building vocab...\n",
      "Training...\n"
     ]
    }
   ],
   "source": [
    "N_DIMS = 100\n",
    "N_EPOCHS = 50\n",
    "\n",
    "d2v = Doc2Vec(seed=1,\n",
    "            workers=multiprocessing.cpu_count(),\n",
    "            vector_size=N_DIMS,\n",
    "            dm=0,  # use distributed bag of words\n",
    "\n",
    "            min_count=0,\n",
    "            window=15,\n",
    "            epochs=N_EPOCHS)\n",
    "\n",
    "print(\"Building vocab...\")\n",
    "d2v.build_vocab(documents)\n",
    "#print(\"Word2Vec vocabulary length:\", len(d2v.wv.vocab))\n",
    "#print(\"num shuffled visits: \", d2v.corpus_count)\n",
    "print(\"Training...\")\n",
    "d2v.train(documents, total_examples=d2v.corpus_count, epochs=d2v.epochs)\n",
    "print(\"Saving model...\")\n",
    "#d2v.save(w2v_file)"
   ]
  },
  {
   "cell_type": "code",
   "execution_count": 20,
   "metadata": {},
   "outputs": [],
   "source": [
    "vectors = [d2v.infer_vector(document.words) for document in documents]"
   ]
  },
  {
   "cell_type": "code",
   "execution_count": 24,
   "metadata": {},
   "outputs": [
    {
     "name": "stdout",
     "output_type": "stream",
     "text": [
      "The Linear SVC model is accurate:  72.64 % of the time.\n"
     ]
    }
   ],
   "source": [
    "### Test the model\n",
    "X_train, X_test, y_train, y_test = train_test_split(vectors, author, test_size=0.25, random_state=1337)\n",
    "svm = LinearSVC()\n",
    "svm.fit(X_train, y_train)\n",
    "\n",
    "predictions = svm.predict(X_test)\n",
    "#print(list(predictions[0:10]))\n",
    " \n",
    "from sklearn.metrics import accuracy_score\n",
    "print(\"The Linear SVC model is accurate: \", round((accuracy_score(y_test, predictions) *100),2), \"% of the time.\")\n",
    "\n"
   ]
  },
  {
   "cell_type": "code",
   "execution_count": 26,
   "metadata": {},
   "outputs": [
    {
     "name": "stdout",
     "output_type": "stream",
     "text": [
      "          Author  Count  Probability  logLikelihood\n",
      "0     John Kelly     11     0.407407      -0.897942\n",
      "1   Larry Kudlow      8     0.296296      -1.216395\n",
      "2    Mike Pompeo      5     0.185185      -1.686399\n",
      "3      Dan Coats      2     0.074074      -2.602690\n",
      "4  Kevin Hassett      1     0.037037      -3.295837 \n",
      "\n",
      "\n",
      "The predicted author is:  John Kelly\n"
     ]
    }
   ],
   "source": [
    "opEd = pd.read_table(\"OpEd.txt\", header =None)\n",
    "opEd.columns = ['text']\n",
    "\n",
    "test = opEd['text'].tolist()\n",
    "test_documents = [TaggedDocument(doc, [i]) for i, doc in enumerate(test)]\n",
    "X_test = [d2v.infer_vector(document.words) for document in test_documents]\n",
    "\n",
    "# testVector = vectorizer.fit_transform(test)\n",
    "# X_test=vectorizer.transform(test)\n",
    "# print(vectors.shape)\n",
    "\n",
    "\n",
    "predictions = svm.predict(X_test)\n",
    "\n",
    "#predictedAuthor = mode(predictions)\n",
    "\n",
    "\n",
    "predictedAuthordf = pd.DataFrame(predictions)\n",
    "predictedAuthordf.columns = ['Author']\n",
    "predictedAuthordf = predictedAuthordf['Author'].value_counts().reset_index()\n",
    "predictedAuthordf = pd.DataFrame(predictedAuthordf)\n",
    "predictedAuthordf.columns = ['Author','Count']\n",
    "predictedAuthordf[\"Probability\"] = predictedAuthordf[\"Count\"]/(predictedAuthordf['Count'].sum())\n",
    "predictedAuthordf[\"logLikelihood\"] = np.log( predictedAuthordf[\"Probability\"])\n",
    "\n",
    "prediction = predictedAuthordf['logLikelihood'].idxmax()\n",
    "predictedAuthor = predictedAuthordf.at[prediction,'Author']\n",
    "\n",
    "print(predictedAuthordf,\"\\n\\n\")\n",
    "\n",
    "\n",
    "#predictedAuthor = (list(possibleAuthors.keys())[list(possibleAuthors.values()).index(predictedAuthor)]) \n",
    "print(\"The predicted author is: \", predictedAuthor)"
   ]
  },
  {
   "cell_type": "markdown",
   "metadata": {},
   "source": [
    "# bigram model"
   ]
  },
  {
   "cell_type": "code",
   "execution_count": 39,
   "metadata": {},
   "outputs": [],
   "source": [
    "from nltk.collocations import BigramCollocationFinder\n",
    "import re\n",
    "import codecs\n",
    "import numpy as np\n",
    "import string\n",
    " \n",
    "# train char bigram models for each author\n",
    "models = dict()\n",
    "words_all = []\n",
    "translate_table = dict((ord(char), None) for char in string.punctuation)\n",
    "# reading the file in unicode format using codecs library    \n",
    "for df in [Coats, Mattis,Kelly,Hassett,Nielsen,Kudlow,Pence,Pompeo]:\n",
    "    text = df['text'].tolist()\n",
    "    author = df['author'].iloc[0]\n",
    "    for line in text:            \n",
    "        # extracting the text sentence from each line         \n",
    "        line = \" \".join(line.split())\n",
    "        line = line.lower()   # to lower case\n",
    "        line = re.sub(r\"\\d+\", \"\", line) # remove digits\n",
    "\n",
    "        if len(line) != 0:\n",
    "            line = line.translate(translate_table) # remove punctuations\n",
    "            words_all += line\n",
    "            words_all.append(\" \") # append sentences with space\n",
    "\n",
    "    all_str = ''.join(words_all)\n",
    "    all_str = re.sub(' +',' ',all_str) # replace series of spaces with single space\n",
    "    seq_all = [i for i in all_str]  # list of all characters chronologically\n",
    "\n",
    "    # extracting the bi-grams and sorting them according to their frequencies\n",
    "    finder = BigramCollocationFinder.from_words(seq_all)\n",
    "#     finder.apply_freq_filter(5)\n",
    "    bigram_model = finder.ngram_fd.items()#.viewitems()\n",
    "    bigram_model = sorted(bigram_model, key=lambda item: item[1],reverse=True)\n",
    "    models[author] = bigram_model  # list of [((gram1, gram2), count)]"
   ]
  },
  {
   "cell_type": "code",
   "execution_count": null,
   "metadata": {},
   "outputs": [],
   "source": [
    "from nltk.collocations import BigramCollocationFinder\n",
    "import re\n",
    "import codecs\n",
    "import numpy as np\n",
    "import string\n",
    "         \n",
    "def test_language(path,language,total):\n",
    "    tp = 0\n",
    "    fp = 0\n",
    "    lang_name = [\"english\",\"german\",\"french\",\"italian\",\"dutch\",\"spanish\"]\n",
    "    model = [np.load(lang+\".npy\") for lang in lang_name]\n",
    "     \n",
    "    with codecs.open(path,\"r\",\"utf-8\") as filep:\n",
    "        translate_table = dict((ord(char), None) for char in string.punctuation)\n",
    "        for l,line in enumerate(filep):\n",
    "             \n",
    "            line = \" \".join(line.split()[1:])\n",
    "            line = line.lower()\n",
    "            line = re.sub(r\"\\d+\", \"\", line)\n",
    "            line = line.translate(translate_table)\n",
    "             \n",
    "            finder = BigramCollocationFinder.from_words(line)\n",
    "                         \n",
    "            freq_sum = np.zeros(6)                        \n",
    "            for k,v in finder.ngram_fd.items():                 \n",
    "                isthere = 0\n",
    "                for i,lang in enumerate(lang_name):                    \n",
    "                    for key,f in model[i]:\n",
    "                        if k == key:                            \n",
    "                            freq_sum[i] = freq_sum[i]+(f*10000)/total[i]\n",
    "                            isthere = 1\n",
    "                            break\n",
    "                    if isthere == 0:\n",
    "                        freq_sum[i] = freq_sum[i] + 1\n",
    "                                 \n",
    "            max_val = freq_sum.max()\n",
    "            index= freq_sum.argmax()\n",
    "            if max_val != 0:                \n",
    "                if lang_name[index] == language:\n",
    "                    tp = tp + 1\n",
    "                else:\n",
    "                    fp = fp + 1\n",
    "            print \"tp = \",tp,\"fp = \",fp,freq_sum\n",
    "    print \"True Positive = \",tp\n",
    "    print \"False Positive = \",fp                \n",
    "               \n",
    "\n",
    "root = \"test\\\\\"\n",
    "lang_name = [\"english\",\"german\",\"french\",\"italian\",\"dutch\",\"spanish\"]\n",
    "\n",
    "no_of_bigms = []\n",
    "for i,lang in enumerate(lang_name):\n",
    "    model = np.load(lang+\".npy\")\n",
    "    total = 0\n",
    "    for key,v in model:            \n",
    "        total = total + v\n",
    "    no_of_bigms.append(total) \n",
    "    print total\n",
    "\n",
    "train_lang_path = [\"eng_news_2015_10K\\\\eng_news_2015_10K-sentences.txt\",\"deu_news_2015_10K\\\\deu_news_2015_10K-sentences.txt\",\"fra_news_2010_10K-text\\\\fra_news_2010_10K-sentences.txt\",\"ita_news_2010_10K-text\\\\ita_news_2010_10K-sentences.txt\",\"nld_wikipedia_2016_10K\\\\nld_wikipedia_2016_10K-sentences.txt\",\"spa_news_2011_10K\\\\spa_news_2011_10K-sentences.txt\"]\n",
    "for i,p in enumerate(train_lang_path):\n",
    "    print \"Testing of \",lang_name[i]\n",
    "    test_language(root+p,lang_name[i],no_of_bigms)"
   ]
  },
  {
   "cell_type": "markdown",
   "metadata": {},
   "source": [
    "John Kelley told Donald to let it go https://www.huffingtonpost.com/entry/stephen-colbert-identity-new-york-times-op-ed-author_us_5b971851e4b0162f47302cfei"
   ]
  }
 ],
 "metadata": {
  "kernelspec": {
   "display_name": "Python 3",
   "language": "python",
   "name": "python3"
  },
  "language_info": {
   "codemirror_mode": {
    "name": "ipython",
    "version": 3
   },
   "file_extension": ".py",
   "mimetype": "text/x-python",
   "name": "python",
   "nbconvert_exporter": "python",
   "pygments_lexer": "ipython3",
   "version": "3.6.4"
  }
 },
 "nbformat": 4,
 "nbformat_minor": 2
}
