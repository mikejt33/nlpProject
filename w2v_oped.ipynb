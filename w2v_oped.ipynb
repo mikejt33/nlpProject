{
 "cells": [
  {
   "cell_type": "code",
   "execution_count": 19,
   "metadata": {},
   "outputs": [],
   "source": [
    "import pandas as pd\n",
    "import matplotlib.pyplot as plt\n",
    "import collections\n",
    "from sklearn.feature_extraction.text import TfidfVectorizer\n",
    "from sklearn.svm import LinearSVC\n",
    "from sklearn.model_selection import train_test_split\n",
    "import numpy as np\n",
    "from gensim.models.doc2vec import Doc2Vec, TaggedDocument\n",
    "import multiprocessing"
   ]
  },
  {
   "cell_type": "code",
   "execution_count": 21,
   "metadata": {},
   "outputs": [],
   "source": [
    "Coats = pd.read_table(\"Dan Coats.txt\", header =None)\n",
    "Coats.columns = ['text']\n",
    "Coats['author'] = 'Dan Coats'\n",
    "\n",
    "Mattis = pd.read_table(\"James Mattis.txt\", header =None)\n",
    "Mattis.columns = ['text']\n",
    "Mattis['author'] = 'James Mattis'\n",
    "\n",
    "Kelly = pd.read_table(\"John Kelly.txt\", header =None)\n",
    "Kelly.columns = ['text']\n",
    "Kelly['author'] = 'John Kelly'\n",
    "\n",
    "Hassett = pd.read_table(\"Kevin Hassett.txt\", header =None)\n",
    "Hassett.columns = ['text']\n",
    "Hassett['author'] = 'Kevin Hassett'\n",
    "\n",
    "Nielsen = pd.read_table(\"Kirstjen Nielsen.txt\", header =None)\n",
    "Nielsen.columns = ['text']\n",
    "Nielsen['author'] = 'Kirstjen Nielsen'\n",
    "\n",
    "Kudlow = pd.read_table(\"Larry Kudlow.txt\", header =None)\n",
    "Kudlow.columns = ['text']\n",
    "Kudlow['author'] = 'Larry Kudlow'\n",
    "\n",
    "Pence = pd.read_table(\"Mike Pence.txt\", header =None)\n",
    "Pence.columns = ['text']\n",
    "Pence['author'] = 'Mike Pence'\n",
    "\n",
    "Pompeo = pd.read_table(\"Mike Pompeo.txt\", header =None)\n",
    "Pompeo.columns = ['text']\n",
    "Pompeo['author'] = 'Mike Pompeo'\n",
    "\n",
    "replace_dct = {}\n",
    "\n",
    "# df[\"col1\"].replace(di, inplace=True)\n",
    "\n",
    "train = pd.DataFrame()\n",
    "train = pd.concat([Coats, Mattis,Kelly,Hassett,Nielsen,Kudlow,Pence,Pompeo])\n",
    "\n",
    "# Convert the author strings into numbers\n",
    "#train['author'] = train['author'].apply(lambda x: possibleAuthors[x])\n",
    "#print(train)\n",
    "\n",
    "\n",
    "text = train['text'].tolist()\n",
    "author = train['author'].tolist()"
   ]
  },
  {
   "cell_type": "code",
   "execution_count": 22,
   "metadata": {},
   "outputs": [],
   "source": [
    "documents = [TaggedDocument(doc, [i]) for i, doc in enumerate(text)]"
   ]
  },
  {
   "cell_type": "code",
   "execution_count": 23,
   "metadata": {},
   "outputs": [
    {
     "data": {
      "text/plain": [
       "[TaggedDocument(words='Good evening, and sincere thanks to the Atlantic Council, Le Figaro, and the Tocqueville Foundation for organizing this important conversation about Democracy in the West.\\xa0', tags=[0]),\n",
       " TaggedDocument(words='I enjoyed catching up with Atlantic council board member and a long-time friend Ambassador Boyden Gray and the Atlantic Council’s Executive Vice President Damon Wilson just a few minutes ago.', tags=[1])]"
      ]
     },
     "execution_count": 23,
     "metadata": {},
     "output_type": "execute_result"
    }
   ],
   "source": [
    "documents[:2]"
   ]
  },
  {
   "cell_type": "code",
   "execution_count": 24,
   "metadata": {},
   "outputs": [
    {
     "name": "stdout",
     "output_type": "stream",
     "text": [
      "Building vocab...\n",
      "Training...\n",
      "Saving model...\n"
     ]
    }
   ],
   "source": [
    "N_DIMS = 100\n",
    "N_EPOCHS = 50\n",
    "\n",
    "d2v = Doc2Vec(seed=1,\n",
    "            workers=multiprocessing.cpu_count(),\n",
    "            vector_size=N_DIMS,\n",
    "            min_count=0,\n",
    "            window=15,\n",
    "            epochs=N_EPOCHS)\n",
    "\n",
    "print(\"Building vocab...\")\n",
    "d2v.build_vocab(documents)\n",
    "#print(\"Word2Vec vocabulary length:\", len(d2v.wv.vocab))\n",
    "#print(\"num shuffled visits: \", d2v.corpus_count)\n",
    "print(\"Training...\")\n",
    "d2v.train(documents, total_examples=d2v.corpus_count, epochs=d2v.epochs)\n",
    "print(\"Saving model...\")\n",
    "#d2v.save(w2v_file)"
   ]
  },
  {
   "cell_type": "code",
   "execution_count": 25,
   "metadata": {},
   "outputs": [],
   "source": [
    "vectors = [d2v.infer_vector(document.words) for document in documents]"
   ]
  },
  {
   "cell_type": "code",
   "execution_count": 26,
   "metadata": {},
   "outputs": [
    {
     "name": "stdout",
     "output_type": "stream",
     "text": [
      "The Linear SVC model is accurate:  73.58 % of the time.\n"
     ]
    }
   ],
   "source": [
    "### Test the model\n",
    "X_train, X_test, y_train, y_test = train_test_split(vectors, author, test_size=0.25, random_state=1337)\n",
    "svm = LinearSVC()\n",
    "svm.fit(X_train, y_train)\n",
    "\n",
    "predictions = svm.predict(X_test)\n",
    "#print(list(predictions[0:10]))\n",
    " \n",
    "from sklearn.metrics import accuracy_score\n",
    "print(\"The Linear SVC model is accurate: \", round((accuracy_score(y_test, predictions) *100),2), \"% of the time.\")\n",
    "\n"
   ]
  },
  {
   "cell_type": "code",
   "execution_count": 27,
   "metadata": {},
   "outputs": [
    {
     "name": "stdout",
     "output_type": "stream",
     "text": [
      "          Author  Count  Probability  logLikelihood\n",
      "0     John Kelly     17     0.629630      -0.462624\n",
      "1   Larry Kudlow      5     0.185185      -1.686399\n",
      "2  Kevin Hassett      3     0.111111      -2.197225\n",
      "3    Mike Pompeo      1     0.037037      -3.295837\n",
      "4      Dan Coats      1     0.037037      -3.295837 \n",
      "\n",
      "\n",
      "The predicted author is:  John Kelly\n"
     ]
    }
   ],
   "source": [
    "opEd = pd.read_table(\"OpEd.txt\", header =None)\n",
    "opEd.columns = ['text']\n",
    "\n",
    "test = opEd['text'].tolist()\n",
    "test_documents = [TaggedDocument(doc, [i]) for i, doc in enumerate(test)]\n",
    "X_test = [d2v.infer_vector(document.words) for document in test_documents]\n",
    "\n",
    "# testVector = vectorizer.fit_transform(test)\n",
    "# X_test=vectorizer.transform(test)\n",
    "# print(vectors.shape)\n",
    "\n",
    "\n",
    "predictions = svm.predict(X_test)\n",
    "\n",
    "#predictedAuthor = mode(predictions)\n",
    "\n",
    "\n",
    "predictedAuthordf = pd.DataFrame(predictions)\n",
    "predictedAuthordf.columns = ['Author']\n",
    "predictedAuthordf = predictedAuthordf['Author'].value_counts().reset_index()\n",
    "predictedAuthordf = pd.DataFrame(predictedAuthordf)\n",
    "predictedAuthordf.columns = ['Author','Count']\n",
    "predictedAuthordf[\"Probability\"] = predictedAuthordf[\"Count\"]/(predictedAuthordf['Count'].sum())\n",
    "predictedAuthordf[\"logLikelihood\"] = np.log( predictedAuthordf[\"Probability\"])\n",
    "\n",
    "prediction = predictedAuthordf['logLikelihood'].idxmax()\n",
    "predictedAuthor = predictedAuthordf.at[prediction,'Author']\n",
    "\n",
    "print(predictedAuthordf,\"\\n\\n\")\n",
    "\n",
    "\n",
    "#predictedAuthor = (list(possibleAuthors.keys())[list(possibleAuthors.values()).index(predictedAuthor)]) \n",
    "print(\"The predicted author is: \", predictedAuthor)"
   ]
  },
  {
   "cell_type": "markdown",
   "metadata": {},
   "source": [
    "# bigram model"
   ]
  },
  {
   "cell_type": "code",
   "execution_count": 18,
   "metadata": {},
   "outputs": [
    {
     "name": "stdout",
     "output_type": "stream",
     "text": [
      "[' ', ' a', ' b', ' c', ' d', ' e', ' f', ' g', ' h', ' i', ' j', ' k', ' l', ' m', ' n', ' o', ' p', ' q', ' r', ' s', ' t', ' u', ' v', ' w', ' y', ' –', ' “', 'a', 'a ', 'ab', 'ac', 'ad', 'af', 'ag', 'ai', 'aj', 'ak', 'al', 'am', 'an', 'ap', 'ar', 'as', 'at', 'au', 'av', 'aw', 'ay', 'aï', 'a—', 'a’', 'a”', 'b', 'b ', 'ba', 'bb', 'be', 'bi', 'bj', 'bl', 'bo', 'br', 'bu', 'bv', 'by', 'c', 'c ', 'ca', 'cc', 'ce', 'ch', 'ci', 'ck', 'cl', 'co', 'cq', 'cr', 'cs', 'ct', 'cu', 'cy', 'd', 'd ', 'da', 'dd', 'de', 'dg', 'dh', 'di', 'dl', 'dm', 'do', 'dr', 'ds', 'dt', 'du', 'dw', 'dy', 'd—', 'e', 'e ', 'ea', 'eb', 'ec', 'ed', 'ee', 'ef', 'eg', 'eh', 'ei', 'ek', 'el', 'em', 'en', 'eo', 'ep', 'eq', 'er', 'es', 'et', 'eu', 'ev', 'ew', 'ex', 'ey', 'e—', 'e’', 'e”', 'e…', 'f', 'f ', 'fa', 'fe', 'ff', 'fi', 'fl', 'fo', 'fr', 'ft', 'fu', 'fy', 'g', 'g ', 'ga', 'gb', 'ge', 'gg', 'gh', 'gi', 'gl', 'gn', 'go', 'gr', 'gs', 'gt', 'gu', 'gy', 'h', 'h ', 'ha', 'he', 'hi', 'ho', 'hr', 'hs', 'ht', 'hu', 'hy', 'i', 'i ', 'ia', 'ib', 'ic', 'id', 'ie', 'if', 'ig', 'ii', 'ik', 'il', 'im', 'in', 'io', 'ip', 'iq', 'ir', 'is', 'it', 'iv', 'iz', 'i’', 'j', 'je', 'jo', 'ju', 'k', 'k ', 'ka', 'ke', 'kf', 'kg', 'ki', 'kl', 'kn', 'kr', 'ks', 'k…', 'l', 'l ', 'la', 'lc', 'ld', 'le', 'li', 'lk', 'll', 'lm', 'lo', 'lp', 'ls', 'lt', 'lu', 'lv', 'lw', 'ly', 'l’', 'm', 'm ', 'ma', 'mb', 'me', 'mi', 'ml', 'mm', 'mo', 'mp', 'ms', 'mu', 'my', 'n', 'n ', 'na', 'nc', 'nd', 'ne', 'nf', 'ng', 'nh', 'ni', 'nj', 'nk', 'nl', 'nm', 'nn', 'no', 'np', 'ns', 'nt', 'nu', 'nv', 'nw', 'ny', 'n’', 'n…', 'o', 'o ', 'oa', 'ob', 'oc', 'od', 'of', 'og', 'oi', 'ok', 'ol', 'om', 'on', 'oo', 'op', 'or', 'os', 'ot', 'ou', 'ov', 'ow', 'ox', 'oy', 'p', 'p ', 'pa', 'pe', 'ph', 'pi', 'pl', 'po', 'pp', 'pr', 'ps', 'pt', 'pu', 'q', 'qu', 'r', 'r ', 'ra', 'rb', 'rc', 'rd', 're', 'rf', 'rg', 'rh', 'ri', 'rk', 'rl', 'rm', 'rn', 'ro', 'rp', 'rr', 'rs', 'rt', 'ru', 'rv', 'rw', 'ry', 's', 's ', 'sa', 'sc', 'sd', 'se', 'sf', 'sh', 'si', 'sl', 'sm', 'sn', 'so', 'sp', 'sr', 'ss', 'st', 'su', 'sy', 's—', 's…', 't', 't ', 'ta', 'tc', 'te', 'th', 'ti', 'tl', 'tm', 'tn', 'to', 'tr', 'ts', 'tt', 'tu', 'tw', 'ty', 'u', 'u ', 'ua', 'ub', 'uc', 'ud', 'ue', 'ug', 'ui', 'uk', 'ul', 'um', 'un', 'up', 'ur', 'us', 'ut', 'v', 'va', 've', 'vi', 'vl', 'vo', 'w', 'w ', 'wa', 'we', 'wh', 'wi', 'wl', 'wo', 'wr', 'wt', 'x', 'x ', 'xa', 'xc', 'xe', 'xi', 'xp', 'xt', 'y', 'y ', 'yb', 'yd', 'ye', 'yf', 'yi', 'ym', 'yn', 'yo', 'ys', 'yt', 'y’', 'y”', 'z', 'ze', 'zi', 'zo', 'ï', 'ïv', '–', '– ', '—', '—h', '—i', '—p', '’', '’d', '’l', '’m', '’s', '’t', '’v', '“', '“d', '“e', '“r', '“w', '”', '” ', '…', '… ', '…o']\n",
      "[' ', ' a', ' b', ' c', ' d', ' e', ' f', ' g', ' h', ' i', ' j', ' k', ' l', ' m', ' n', ' o', ' p', ' q', ' r', ' s', ' t', ' u', ' v', ' w', ' y', ' z', ' –', ' —', ' “', 'a', 'a ', 'ab', 'ac', 'ad', 'ae', 'af', 'ag', 'ah', 'ai', 'aj', 'ak', 'al', 'am', 'an', 'ap', 'aq', 'ar', 'as', 'at', 'au', 'av', 'aw', 'ay', 'aï', 'a—', 'a’', 'a”', 'b', 'b ', 'ba', 'bb', 'be', 'bi', 'bj', 'bl', 'bo', 'br', 'bs', 'bt', 'bu', 'bv', 'by', 'c', 'c ', 'ca', 'cc', 'ce', 'ch', 'ci', 'ck', 'cl', 'co', 'cq', 'cr', 'cs', 'ct', 'cu', 'cy', 'd', 'd ', 'da', 'dc', 'dd', 'de', 'dg', 'dh', 'di', 'dl', 'dm', 'dn', 'do', 'dr', 'ds', 'dt', 'du', 'dv', 'dw', 'dy', 'd—', 'd”', 'e', 'e ', 'ea', 'eb', 'ec', 'ed', 'ee', 'ef', 'eg', 'eh', 'ei', 'ek', 'el', 'em', 'en', 'eo', 'ep', 'eq', 'er', 'es', 'et', 'eu', 'ev', 'ew', 'ex', 'ey', 'ez', 'e—', 'e’', 'e”', 'e…', 'f', 'f ', 'fa', 'fe', 'ff', 'fg', 'fi', 'fl', 'fo', 'fr', 'ft', 'fu', 'fy', 'g', 'g ', 'ga', 'gb', 'ge', 'gg', 'gh', 'gi', 'gl', 'gm', 'gn', 'go', 'gr', 'gs', 'gt', 'gu', 'gy', 'g—', 'h', 'h ', 'ha', 'hd', 'he', 'hi', 'ho', 'hq', 'hr', 'hs', 'ht', 'hu', 'hy', 'h—', 'i', 'i ', 'ia', 'ib', 'ic', 'id', 'ie', 'if', 'ig', 'ih', 'ii', 'ik', 'il', 'im', 'in', 'io', 'ip', 'iq', 'ir', 'is', 'it', 'iv', 'iz', 'i’', 'j', 'ja', 'je', 'ji', 'jo', 'jr', 'ju', 'k', 'k ', 'ka', 'ke', 'kf', 'kg', 'ki', 'kl', 'kn', 'kr', 'ks', 'ku', 'k’', 'k…', 'l', 'l ', 'la', 'lc', 'ld', 'le', 'lf', 'li', 'lk', 'll', 'lm', 'ln', 'lo', 'lp', 'ls', 'lt', 'lu', 'lv', 'lw', 'ly', 'l—', 'l’', 'l”', 'm', 'm ', 'ma', 'mb', 'mc', 'me', 'mh', 'mi', 'ml', 'mm', 'mo', 'mp', 'mr', 'ms', 'mu', 'mw', 'my', 'm—', 'm’', 'm”', 'n', 'n ', 'na', 'nc', 'nd', 'ne', 'nf', 'ng', 'nh', 'ni', 'nj', 'nk', 'nl', 'nm', 'nn', 'no', 'np', 'nr', 'ns', 'nt', 'nu', 'nv', 'nw', 'ny', 'n’', 'n…', 'o', 'o ', 'oa', 'ob', 'oc', 'od', 'oe', 'of', 'og', 'oi', 'ok', 'ol', 'om', 'on', 'oo', 'op', 'or', 'os', 'ot', 'ou', 'ov', 'ow', 'ox', 'oy', 'oz', 'p', 'p ', 'pa', 'pe', 'ph', 'pi', 'pl', 'pm', 'po', 'pp', 'pr', 'ps', 'pt', 'pu', 'py', 'q', 'q ', 'qu', 'q’', 'r', 'r ', 'ra', 'rb', 'rc', 'rd', 're', 'rf', 'rg', 'rh', 'ri', 'rk', 'rl', 'rm', 'rn', 'ro', 'rp', 'rr', 'rs', 'rt', 'ru', 'rv', 'rw', 'ry', 'r’', 'r”', 's', 's ', 'sa', 'sc', 'sd', 'se', 'sf', 'sh', 'si', 'sk', 'sl', 'sm', 'sn', 'so', 'sp', 'sr', 'ss', 'st', 'su', 'sw', 'sy', 's—', 's’', 's”', 's…', 't', 't ', 'ta', 'tc', 'te', 'tf', 'tg', 'th', 'ti', 'tl', 'tm', 'tn', 'to', 'tp', 'tr', 'ts', 'tt', 'tu', 'tw', 'ty', 't’', 't”', 'u', 'u ', 'ua', 'ub', 'uc', 'ud', 'ue', 'uf', 'ug', 'ui', 'uk', 'ul', 'um', 'un', 'uo', 'up', 'ur', 'us', 'ut', 'uw', 'ux', 'uy', 'u—', 'u’', 'v', 'va', 've', 'vi', 'vl', 'vo', 'w', 'w ', 'wa', 'we', 'wf', 'wh', 'wi', 'wl', 'wn', 'wo', 'wr', 'ws', 'wt', 'ww', 'x', 'x ', 'xa', 'xc', 'xe', 'xi', 'xp', 'xt', 'xu', 'y', 'y ', 'ya', 'yb', 'yd', 'ye', 'yf', 'yi', 'yl', 'ym', 'yn', 'yo', 'ys', 'yt', 'y—', 'y’', 'y”', 'y…', 'z', 'za', 'ze', 'zi', 'zo', 'ï', 'ïv', '–', '– ', '—', '— ', '—a', '—h', '—i', '—k', '—o', '—p', '—t', '—w', '—y', '——', '’', '’ ', '’d', '’l', '’m', '’r', '’s', '’t', '’v', '“', '“a', '“c', '“d', '“e', '“f', '“g', '“i', '“k', '“l', '“n', '“r', '“s', '“t', '“w', '”', '” ', '”—', '”…', '…', '… ', '…o']\n",
      "[' ', ' a', ' b', ' c', ' d', ' e', ' f', ' g', ' h', ' i', ' j', ' k', ' l', ' m', ' n', ' o', ' p', ' q', ' r', ' s', ' t', ' u', ' v', ' w', ' x', ' y', ' z', ' –', ' —', ' “', 'a', 'a ', 'ab', 'ac', 'ad', 'ae', 'af', 'ag', 'ah', 'ai', 'aj', 'ak', 'al', 'am', 'an', 'ap', 'aq', 'ar', 'as', 'at', 'au', 'av', 'aw', 'ax', 'ay', 'az', 'aï', 'a—', 'a’', 'a”', 'b', 'b ', 'ba', 'bb', 'bc', 'be', 'bi', 'bj', 'bl', 'bm', 'bo', 'bp', 'br', 'bs', 'bt', 'bu', 'bv', 'by', 'c', 'c ', 'ca', 'cb', 'cc', 'cd', 'ce', 'cg', 'ch', 'ci', 'ck', 'cl', 'co', 'cq', 'cr', 'cs', 'ct', 'cu', 'cy', 'd', 'd ', 'da', 'dc', 'dd', 'de', 'df', 'dg', 'dh', 'di', 'dj', 'dl', 'dm', 'dn', 'do', 'dp', 'dq', 'dr', 'ds', 'dt', 'du', 'dv', 'dw', 'dy', 'd—', 'd’', 'd”', 'e', 'e ', 'ea', 'eb', 'ec', 'ed', 'ee', 'ef', 'eg', 'eh', 'ei', 'ej', 'ek', 'el', 'em', 'en', 'eo', 'ep', 'eq', 'er', 'es', 'et', 'eu', 'ev', 'ew', 'ex', 'ey', 'ez', 'e—', 'e’', 'e”', 'e…', 'f', 'f ', 'fa', 'fb', 'fe', 'ff', 'fg', 'fi', 'fl', 'fo', 'fr', 'fs', 'ft', 'fu', 'fy', 'g', 'g ', 'ga', 'gb', 'gd', 'ge', 'gg', 'gh', 'gi', 'gl', 'gm', 'gn', 'go', 'gr', 'gs', 'gt', 'gu', 'gy', 'g—', 'g”', 'h', 'h ', 'ha', 'hb', 'hc', 'hd', 'he', 'hi', 'hl', 'hn', 'ho', 'hq', 'hr', 'hs', 'ht', 'hu', 'hw', 'hy', 'h—', 'i', 'i ', 'ia', 'ib', 'ic', 'id', 'ie', 'if', 'ig', 'ih', 'ii', 'ij', 'ik', 'il', 'im', 'in', 'io', 'ip', 'iq', 'ir', 'is', 'it', 'iu', 'iv', 'ix', 'iz', 'i–', 'i’', 'j', 'ja', 'je', 'ji', 'jo', 'jr', 'ju', 'k', 'k ', 'ka', 'kd', 'ke', 'kf', 'kg', 'ki', 'kl', 'kn', 'ko', 'kr', 'ks', 'ku', 'k—', 'k’', 'k…', 'l', 'l ', 'la', 'lc', 'ld', 'le', 'lf', 'lg', 'li', 'lk', 'll', 'lm', 'ln', 'lo', 'lp', 'lr', 'ls', 'lt', 'lu', 'lv', 'lw', 'ly', 'l—', 'l’', 'l”', 'm', 'm ', 'ma', 'mb', 'mc', 'me', 'mf', 'mh', 'mi', 'ml', 'mm', 'mo', 'mp', 'mr', 'ms', 'mu', 'mw', 'my', 'm—', 'm’', 'm”', 'n', 'n ', 'na', 'nb', 'nc', 'nd', 'ne', 'nf', 'ng', 'nh', 'ni', 'nj', 'nk', 'nl', 'nm', 'nn', 'no', 'np', 'nq', 'nr', 'ns', 'nt', 'nu', 'nv', 'nw', 'ny', 'n—', 'n’', 'n”', 'n…', 'o', 'o ', 'oa', 'ob', 'oc', 'od', 'oe', 'of', 'og', 'oh', 'oi', 'oj', 'ok', 'ol', 'om', 'on', 'oo', 'op', 'or', 'os', 'ot', 'ou', 'ov', 'ow', 'ox', 'oy', 'oz', 'o—', 'p', 'p ', 'pa', 'pb', 'pe', 'ph', 'pi', 'pl', 'pm', 'po', 'pp', 'pr', 'ps', 'pt', 'pu', 'py', 'p”', 'q', 'q ', 'qu', 'q’', 'r', 'r ', 'ra', 'rb', 'rc', 'rd', 're', 'rf', 'rg', 'rh', 'ri', 'rk', 'rl', 'rm', 'rn', 'ro', 'rp', 'rr', 'rs', 'rt', 'ru', 'rv', 'rw', 'ry', 'r—', 'r’', 'r”', 's', 's ', 'sa', 'sc', 'sd', 'se', 'sf', 'sg', 'sh', 'si', 'sk', 'sl', 'sm', 'sn', 'so', 'sp', 'sr', 'ss', 'st', 'su', 'sw', 'sy', 's—', 's’', 's”', 's…', 't', 't ', 'ta', 'tc', 'te', 'tf', 'tg', 'th', 'ti', 'tl', 'tm', 'tn', 'to', 'tp', 'tr', 'ts', 'tt', 'tu', 'tw', 'ty', 't—', 't’', 't”', 'u', 'u ', 'ua', 'ub', 'uc', 'ud', 'ue', 'uf', 'ug', 'ui', 'uk', 'ul', 'um', 'un', 'uo', 'up', 'ur', 'us', 'ut', 'uv', 'uw', 'ux', 'uy', 'uz', 'u—', 'u’', 'v', 'va', 'vc', 've', 'vi', 'vl', 'vo', 'vu', 'vy', 'w', 'w ', 'wa', 'we', 'wf', 'wh', 'wi', 'wl', 'wn', 'wo', 'wr', 'ws', 'wt', 'ww', 'x', 'x ', 'xa', 'xc', 'xe', 'xi', 'xp', 'xt', 'xu', 'xy', 'y', 'y ', 'ya', 'yb', 'yc', 'yd', 'ye', 'yf', 'yi', 'yl', 'ym', 'yn', 'yo', 'yp', 'ys', 'yt', 'yw', 'y—', 'y’', 'y”', 'y…', 'z', 'za', 'zb', 'ze', 'zi', 'zl', 'zo', 'zu', 'zz', 'ï', 'ïv', '–', '– ', '–f', '—', '— ', '—a', '—b', '—c', '—d', '—e', '—h', '—i', '—k', '—l', '—o', '—p', '—s', '—t', '—w', '—y', '——', '’', '’ ', '’d', '’l', '’m', '’r', '’s', '’t', '’v', '“', '“a', '“b', '“c', '“d', '“e', '“f', '“g', '“h', '“i', '“k', '“l', '“m', '“n', '“p', '“r', '“s', '“t', '“u', '“w', '”', '” ', '”—', '”…', '…', '… ', '…o']\n",
      "[' ', ' a', ' b', ' c', ' d', ' e', ' f', ' g', ' h', ' i', ' j', ' k', ' l', ' m', ' n', ' o', ' p', ' q', ' r', ' s', ' t', ' u', ' v', ' w', ' x', ' y', ' z', ' –', ' —', ' ‘', ' “', ' ”', ' …', 'a', 'a ', 'ab', 'ac', 'ad', 'ae', 'af', 'ag', 'ah', 'ai', 'aj', 'ak', 'al', 'am', 'an', 'ao', 'ap', 'aq', 'ar', 'as', 'at', 'au', 'av', 'aw', 'ax', 'ay', 'az', 'aï', 'a—', 'a’', 'a”', 'b', 'b ', 'ba', 'bb', 'bc', 'be', 'bi', 'bj', 'bl', 'bm', 'bo', 'bp', 'br', 'bs', 'bt', 'bu', 'bv', 'by', 'c', 'c ', 'ca', 'cb', 'cc', 'cd', 'ce', 'cf', 'cg', 'ch', 'ci', 'cj', 'ck', 'cl', 'co', 'cq', 'cr', 'cs', 'ct', 'cu', 'cy', 'cz', 'c”', 'd', 'd ', 'da', 'db', 'dc', 'dd', 'de', 'df', 'dg', 'dh', 'di', 'dj', 'dl', 'dm', 'dn', 'do', 'dp', 'dq', 'dr', 'ds', 'dt', 'du', 'dv', 'dw', 'dy', 'd—', 'd’', 'd”', 'e', 'e ', 'ea', 'eb', 'ec', 'ed', 'ee', 'ef', 'eg', 'eh', 'ei', 'ej', 'ek', 'el', 'em', 'en', 'eo', 'ep', 'eq', 'er', 'es', 'et', 'eu', 'ev', 'ew', 'ex', 'ey', 'ez', 'e—', 'e’', 'e”', 'e…', 'f', 'f ', 'fa', 'fb', 'fe', 'ff', 'fg', 'fi', 'fl', 'fo', 'fr', 'fs', 'ft', 'fu', 'fy', 'f’', 'g', 'g ', 'ga', 'gb', 'gd', 'ge', 'gg', 'gh', 'gi', 'gl', 'gm', 'gn', 'go', 'gr', 'gs', 'gt', 'gu', 'gy', 'g—', 'g’', 'g”', 'h', 'h ', 'ha', 'hb', 'hc', 'hd', 'he', 'hi', 'hl', 'hm', 'hn', 'ho', 'hq', 'hr', 'hs', 'ht', 'hu', 'hw', 'hy', 'h—', 'h’', 'h”', 'i', 'i ', 'ia', 'ib', 'ic', 'id', 'ie', 'if', 'ig', 'ih', 'ii', 'ij', 'ik', 'il', 'im', 'in', 'io', 'ip', 'iq', 'ir', 'is', 'it', 'iu', 'iv', 'ix', 'iz', 'i–', 'i’', 'j', 'ja', 'je', 'ji', 'jo', 'jr', 'ju', 'k', 'k ', 'ka', 'kd', 'ke', 'kf', 'kg', 'ki', 'kl', 'kn', 'ko', 'kr', 'ks', 'ku', 'ky', 'k—', 'k’', 'k…', 'l', 'l ', 'la', 'lc', 'ld', 'le', 'lf', 'lg', 'li', 'lk', 'll', 'lm', 'ln', 'lo', 'lp', 'lr', 'ls', 'lt', 'lu', 'lv', 'lw', 'ly', 'l—', 'l’', 'l”', 'l…', 'm', 'm ', 'ma', 'mb', 'mc', 'me', 'mf', 'mh', 'mi', 'ml', 'mm', 'mn', 'mo', 'mp', 'mr', 'ms', 'mu', 'mw', 'my', 'm—', 'm’', 'm”', 'n', 'n ', 'na', 'nb', 'nc', 'nd', 'ne', 'nf', 'ng', 'nh', 'ni', 'nj', 'nk', 'nl', 'nm', 'nn', 'no', 'np', 'nq', 'nr', 'ns', 'nt', 'nu', 'nv', 'nw', 'ny', 'n—', 'n’', 'n”', 'n…', 'o', 'o ', 'oa', 'ob', 'oc', 'od', 'oe', 'of', 'og', 'oh', 'oi', 'oj', 'ok', 'ol', 'om', 'on', 'oo', 'op', 'or', 'os', 'ot', 'ou', 'ov', 'ow', 'ox', 'oy', 'oz', 'o—', 'o’', 'p', 'p ', 'pa', 'pb', 'pd', 'pe', 'ph', 'pi', 'pl', 'pm', 'po', 'pp', 'pr', 'ps', 'pt', 'pu', 'pw', 'py', 'p”', 'q', 'q ', 'qu', 'q’', 'r', 'r ', 'ra', 'rb', 'rc', 'rd', 're', 'rf', 'rg', 'rh', 'ri', 'rk', 'rl', 'rm', 'rn', 'ro', 'rp', 'rq', 'rr', 'rs', 'rt', 'ru', 'rv', 'rw', 'ry', 'r—', 'r’', 'r”', 's', 's ', 'sa', 'sb', 'sc', 'sd', 'se', 'sf', 'sg', 'sh', 'si', 'sk', 'sl', 'sm', 'sn', 'so', 'sp', 'sq', 'sr', 'ss', 'st', 'su', 'sw', 'sy', 'sz', 's—', 's’', 's”', 's…', 't', 't ', 'ta', 'tb', 'tc', 'te', 'tf', 'tg', 'th', 'ti', 'tl', 'tm', 'tn', 'to', 'tp', 'tr', 'ts', 'tt', 'tu', 'tw', 'ty', 't—', 't’', 't”', 'u', 'u ', 'ua', 'ub', 'uc', 'ud', 'ue', 'uf', 'ug', 'uh', 'ui', 'uk', 'ul', 'um', 'un', 'uo', 'up', 'ur', 'us', 'ut', 'uu', 'uv', 'uw', 'ux', 'uy', 'uz', 'u—', 'u’', 'v', 'va', 'vc', 've', 'vi', 'vl', 'vn', 'vo', 'vu', 'vy', 'w', 'w ', 'wa', 'we', 'wf', 'wh', 'wi', 'wl', 'wn', 'wo', 'wr', 'ws', 'wt', 'ww', 'w—', 'w’', 'x', 'x ', 'xa', 'xc', 'xe', 'xi', 'xo', 'xp', 'xt', 'xu', 'xy', 'y', 'y ', 'ya', 'yb', 'yc', 'yd', 'ye', 'yf', 'yi', 'yl', 'ym', 'yn', 'yo', 'yp', 'yr', 'ys', 'yt', 'yw', 'y—', 'y’', 'y”', 'y…', 'z', 'za', 'zb', 'ze', 'zi', 'zl', 'zo', 'zu', 'zz', 'ï', 'ïv', '–', '– ', '–f', '—', '— ', '—a', '—b', '—c', '—d', '—e', '—h', '—i', '—k', '—l', '—o', '—p', '—r', '—s', '—t', '—u', '—v', '—w', '—y', '——', '‘', '‘f', '‘h', '‘i', '‘l', '‘m', '‘n', '‘s', '‘t', '‘w', '’', '’ ', '’d', '’l', '’m', '’n', '’r', '’s', '’t', '’v', '’’', '’”', '“', '“a', '“b', '“c', '“d', '“e', '“f', '“g', '“h', '“i', '“k', '“l', '“m', '“n', '“o', '“p', '“r', '“s', '“t', '“u', '“w', '“y', '“‘', '”', '” ', '”—', '”…', '…', '… ', '…o']\n",
      "[' ', ' a', ' b', ' c', ' d', ' e', ' f', ' g', ' h', ' i', ' j', ' k', ' l', ' m', ' n', ' o', ' p', ' q', ' r', ' s', ' t', ' u', ' v', ' w', ' x', ' y', ' z', ' –', ' —', ' ‘', ' “', ' ”', ' …', 'a', 'a ', 'ab', 'ac', 'ad', 'ae', 'af', 'ag', 'ah', 'ai', 'aj', 'ak', 'al', 'am', 'an', 'ao', 'ap', 'aq', 'ar', 'as', 'at', 'au', 'av', 'aw', 'ax', 'ay', 'az', 'aï', 'a—', 'a’', 'a”', 'b', 'b ', 'ba', 'bb', 'bc', 'be', 'bi', 'bj', 'bl', 'bm', 'bo', 'bp', 'br', 'bs', 'bt', 'bu', 'bv', 'by', 'c', 'c ', 'ca', 'cb', 'cc', 'cd', 'ce', 'cf', 'cg', 'ch', 'ci', 'cj', 'ck', 'cl', 'co', 'cq', 'cr', 'cs', 'ct', 'cu', 'cy', 'cz', 'c”', 'd', 'd ', 'da', 'db', 'dc', 'dd', 'de', 'df', 'dg', 'dh', 'di', 'dj', 'dl', 'dm', 'dn', 'do', 'dp', 'dq', 'dr', 'ds', 'dt', 'du', 'dv', 'dw', 'dy', 'd—', 'd’', 'd”', 'e', 'e ', 'ea', 'eb', 'ec', 'ed', 'ee', 'ef', 'eg', 'eh', 'ei', 'ej', 'ek', 'el', 'em', 'en', 'eo', 'ep', 'eq', 'er', 'es', 'et', 'eu', 'ev', 'ew', 'ex', 'ey', 'ez', 'e—', 'e’', 'e”', 'e…', 'f', 'f ', 'fa', 'fb', 'fe', 'ff', 'fg', 'fi', 'fl', 'fo', 'fr', 'fs', 'ft', 'fu', 'fy', 'f’', 'g', 'g ', 'ga', 'gb', 'gd', 'ge', 'gg', 'gh', 'gi', 'gl', 'gm', 'gn', 'go', 'gr', 'gs', 'gt', 'gu', 'gy', 'g—', 'g’', 'g”', 'h', 'h ', 'ha', 'hb', 'hc', 'hd', 'he', 'hi', 'hl', 'hm', 'hn', 'ho', 'hq', 'hr', 'hs', 'ht', 'hu', 'hw', 'hy', 'h—', 'h’', 'h”', 'i', 'i ', 'ia', 'ib', 'ic', 'id', 'ie', 'if', 'ig', 'ih', 'ii', 'ij', 'ik', 'il', 'im', 'in', 'io', 'ip', 'iq', 'ir', 'is', 'it', 'iu', 'iv', 'ix', 'iz', 'i–', 'i’', 'j', 'ja', 'je', 'ji', 'jo', 'jr', 'ju', 'k', 'k ', 'ka', 'kd', 'ke', 'kf', 'kg', 'ki', 'kl', 'kn', 'ko', 'kr', 'ks', 'ku', 'ky', 'k—', 'k’', 'k…', 'l', 'l ', 'la', 'lc', 'ld', 'le', 'lf', 'lg', 'li', 'lk', 'll', 'lm', 'ln', 'lo', 'lp', 'lr', 'ls', 'lt', 'lu', 'lv', 'lw', 'ly', 'l—', 'l’', 'l”', 'l…', 'm', 'm ', 'ma', 'mb', 'mc', 'me', 'mf', 'mh', 'mi', 'ml', 'mm', 'mn', 'mo', 'mp', 'mr', 'ms', 'mu', 'mw', 'my', 'm—', 'm’', 'm”', 'n', 'n ', 'na', 'nb', 'nc', 'nd', 'ne', 'nf', 'ng', 'nh', 'ni', 'nj', 'nk', 'nl', 'nm', 'nn', 'no', 'np', 'nq', 'nr', 'ns', 'nt', 'nu', 'nv', 'nw', 'ny', 'n—', 'n’', 'n”', 'n…', 'o', 'o ', 'oa', 'ob', 'oc', 'od', 'oe', 'of', 'og', 'oh', 'oi', 'oj', 'ok', 'ol', 'om', 'on', 'oo', 'op', 'or', 'os', 'ot', 'ou', 'ov', 'ow', 'ox', 'oy', 'oz', 'o—', 'o’', 'p', 'p ', 'pa', 'pb', 'pd', 'pe', 'ph', 'pi', 'pl', 'pm', 'pn', 'po', 'pp', 'pr', 'ps', 'pt', 'pu', 'pw', 'py', 'p”', 'q', 'q ', 'qu', 'q’', 'r', 'r ', 'ra', 'rb', 'rc', 'rd', 're', 'rf', 'rg', 'rh', 'ri', 'rk', 'rl', 'rm', 'rn', 'ro', 'rp', 'rq', 'rr', 'rs', 'rt', 'ru', 'rv', 'rw', 'ry', 'r—', 'r’', 'r”', 's', 's ', 'sa', 'sb', 'sc', 'sd', 'se', 'sf', 'sg', 'sh', 'si', 'sk', 'sl', 'sm', 'sn', 'so', 'sp', 'sq', 'sr', 'ss', 'st', 'su', 'sw', 'sy', 'sz', 's—', 's’', 's”', 's…', 't', 't ', 'ta', 'tb', 'tc', 'te', 'tf', 'tg', 'th', 'ti', 'tl', 'tm', 'tn', 'to', 'tp', 'tr', 'ts', 'tt', 'tu', 'tw', 'ty', 't—', 't’', 't”', 'u', 'u ', 'ua', 'ub', 'uc', 'ud', 'ue', 'uf', 'ug', 'uh', 'ui', 'uk', 'ul', 'um', 'un', 'uo', 'up', 'ur', 'us', 'ut', 'uu', 'uv', 'uw', 'ux', 'uy', 'uz', 'u—', 'u’', 'v', 'va', 'vc', 've', 'vi', 'vl', 'vn', 'vo', 'vu', 'vy', 'w', 'w ', 'wa', 'we', 'wf', 'wh', 'wi', 'wl', 'wn', 'wo', 'wr', 'ws', 'wt', 'ww', 'w—', 'w’', 'x', 'x ', 'xa', 'xc', 'xe', 'xi', 'xo', 'xp', 'xt', 'xu', 'xy', 'y', 'y ', 'ya', 'yb', 'yc', 'yd', 'ye', 'yf', 'yi', 'yl', 'ym', 'yn', 'yo', 'yp', 'yr', 'ys', 'yt', 'yw', 'y—', 'y’', 'y”', 'y…', 'z', 'za', 'zb', 'ze', 'zi', 'zl', 'zo', 'zu', 'zz', 'ï', 'ïv', '–', '– ', '–f', '—', '— ', '—a', '—b', '—c', '—d', '—e', '—h', '—i', '—k', '—l', '—o', '—p', '—r', '—s', '—t', '—u', '—v', '—w', '—y', '——', '‘', '‘f', '‘h', '‘i', '‘l', '‘m', '‘n', '‘s', '‘t', '‘w', '’', '’ ', '’d', '’l', '’m', '’n', '’r', '’s', '’t', '’v', '’’', '’”', '“', '“a', '“b', '“c', '“d', '“e', '“f', '“g', '“h', '“i', '“k', '“l', '“m', '“n', '“o', '“p', '“r', '“s', '“t', '“u', '“w', '“y', '“‘', '”', '” ', '”—', '”…', '…', '… ', '…o']\n",
      "[' ', ' a', ' b', ' c', ' d', ' e', ' f', ' g', ' h', ' i', ' j', ' k', ' l', ' m', ' n', ' o', ' p', ' q', ' r', ' s', ' t', ' u', ' v', ' w', ' x', ' y', ' z', ' –', ' —', ' ‘', ' ’', ' “', ' ”', ' …', 'a', 'a ', 'ab', 'ac', 'ad', 'ae', 'af', 'ag', 'ah', 'ai', 'aj', 'ak', 'al', 'am', 'an', 'ao', 'ap', 'aq', 'ar', 'as', 'at', 'au', 'av', 'aw', 'ax', 'ay', 'az', 'aï', 'a—', 'a’', 'a”', 'b', 'b ', 'ba', 'bb', 'bc', 'be', 'bi', 'bj', 'bl', 'bm', 'bo', 'bp', 'br', 'bs', 'bt', 'bu', 'bv', 'by', 'c', 'c ', 'ca', 'cb', 'cc', 'cd', 'ce', 'cf', 'cg', 'ch', 'ci', 'cj', 'ck', 'cl', 'cn', 'co', 'cp', 'cq', 'cr', 'cs', 'ct', 'cu', 'cy', 'cz', 'c”', 'd', 'd ', 'da', 'db', 'dc', 'dd', 'de', 'df', 'dg', 'dh', 'di', 'dj', 'dl', 'dm', 'dn', 'do', 'dp', 'dq', 'dr', 'ds', 'dt', 'du', 'dv', 'dw', 'dy', 'd—', 'd’', 'd”', 'e', 'e ', 'ea', 'eb', 'ec', 'ed', 'ee', 'ef', 'eg', 'eh', 'ei', 'ej', 'ek', 'el', 'em', 'en', 'eo', 'ep', 'eq', 'er', 'es', 'et', 'eu', 'ev', 'ew', 'ex', 'ey', 'ez', 'e—', 'e’', 'e”', 'e…', 'f', 'f ', 'fa', 'fb', 'fe', 'ff', 'fg', 'fi', 'fk', 'fl', 'fo', 'fr', 'fs', 'ft', 'fu', 'fy', 'f’', 'g', 'g ', 'ga', 'gb', 'gd', 'ge', 'gg', 'gh', 'gi', 'gl', 'gm', 'gn', 'go', 'gr', 'gs', 'gt', 'gu', 'gy', 'g—', 'g’', 'g”', 'h', 'h ', 'ha', 'hb', 'hc', 'hd', 'he', 'hi', 'hl', 'hm', 'hn', 'ho', 'hq', 'hr', 'hs', 'ht', 'hu', 'hw', 'hy', 'h—', 'h’', 'h”', 'i', 'i ', 'ia', 'ib', 'ic', 'id', 'ie', 'if', 'ig', 'ih', 'ii', 'ij', 'ik', 'il', 'im', 'in', 'io', 'ip', 'iq', 'ir', 'is', 'it', 'iu', 'iv', 'ix', 'iz', 'i–', 'i’', 'j', 'ja', 'je', 'jf', 'ji', 'jo', 'jr', 'jt', 'ju', 'k', 'k ', 'ka', 'kd', 'ke', 'kf', 'kg', 'ki', 'kl', 'kn', 'ko', 'kr', 'ks', 'ku', 'ky', 'k—', 'k’', 'k…', 'l', 'l ', 'la', 'lb', 'lc', 'ld', 'le', 'lf', 'lg', 'li', 'lk', 'll', 'lm', 'ln', 'lo', 'lp', 'lr', 'ls', 'lt', 'lu', 'lv', 'lw', 'ly', 'l—', 'l’', 'l”', 'l…', 'm', 'm ', 'ma', 'mb', 'mc', 'me', 'mf', 'mh', 'mi', 'ml', 'mm', 'mn', 'mo', 'mp', 'mr', 'ms', 'mu', 'mw', 'my', 'm—', 'm’', 'm”', 'n', 'n ', 'na', 'nb', 'nc', 'nd', 'ne', 'nf', 'ng', 'nh', 'ni', 'nj', 'nk', 'nl', 'nm', 'nn', 'no', 'np', 'nq', 'nr', 'ns', 'nt', 'nu', 'nv', 'nw', 'ny', 'n—', 'n’', 'n”', 'n…', 'o', 'o ', 'oa', 'ob', 'oc', 'od', 'oe', 'of', 'og', 'oh', 'oi', 'oj', 'ok', 'ol', 'om', 'on', 'oo', 'op', 'or', 'os', 'ot', 'ou', 'ov', 'ow', 'ox', 'oy', 'oz', 'o—', 'o’', 'p', 'p ', 'pa', 'pb', 'pd', 'pe', 'pg', 'ph', 'pi', 'pl', 'pm', 'pn', 'po', 'pp', 'pr', 'ps', 'pt', 'pu', 'pw', 'py', 'p’', 'p”', 'q', 'q ', 'qu', 'q’', 'r', 'r ', 'ra', 'rb', 'rc', 'rd', 're', 'rf', 'rg', 'rh', 'ri', 'rk', 'rl', 'rm', 'rn', 'ro', 'rp', 'rq', 'rr', 'rs', 'rt', 'ru', 'rv', 'rw', 'ry', 'r—', 'r’', 'r”', 's', 's ', 'sa', 'sb', 'sc', 'sd', 'se', 'sf', 'sg', 'sh', 'si', 'sk', 'sl', 'sm', 'sn', 'so', 'sp', 'sq', 'sr', 'ss', 'st', 'su', 'sw', 'sy', 'sz', 's—', 's’', 's”', 's…', 't', 't ', 'ta', 'tb', 'tc', 'te', 'tf', 'tg', 'th', 'ti', 'tl', 'tm', 'tn', 'to', 'tp', 'tr', 'ts', 'tt', 'tu', 'tw', 'ty', 't—', 't’', 't”', 'u', 'u ', 'ua', 'ub', 'uc', 'ud', 'ue', 'uf', 'ug', 'uh', 'ui', 'uk', 'ul', 'um', 'un', 'uo', 'up', 'ur', 'us', 'ut', 'uu', 'uv', 'uw', 'ux', 'uy', 'uz', 'u—', 'u’', 'v', 'va', 'vc', 've', 'vi', 'vl', 'vn', 'vo', 'vu', 'vy', 'w', 'w ', 'wa', 'wb', 'we', 'wf', 'wh', 'wi', 'wl', 'wn', 'wo', 'wr', 'ws', 'wt', 'ww', 'w—', 'w’', 'w”', 'x', 'x ', 'xa', 'xc', 'xe', 'xi', 'xl', 'xo', 'xp', 'xr', 'xt', 'xu', 'xy', 'x”', 'y', 'y ', 'ya', 'yb', 'yc', 'yd', 'ye', 'yf', 'yg', 'yi', 'yk', 'yl', 'ym', 'yn', 'yo', 'yp', 'yr', 'ys', 'yt', 'yw', 'y—', 'y’', 'y”', 'y…', 'z', 'za', 'zb', 'ze', 'zi', 'zl', 'zo', 'zp', 'zu', 'zz', 'ï', 'ïv', '–', '– ', '–f', '—', '— ', '—a', '—b', '—c', '—d', '—e', '—h', '—i', '—k', '—l', '—o', '—p', '—r', '—s', '—t', '—u', '—v', '—w', '—y', '——', '‘', '‘f', '‘h', '‘i', '‘l', '‘m', '‘n', '‘s', '‘t', '‘w', '’', '’ ', '’d', '’l', '’m', '’n', '’r', '’s', '’t', '’v', '’’', '’”', '“', '“a', '“b', '“c', '“d', '“e', '“f', '“g', '“h', '“i', '“k', '“l', '“m', '“n', '“o', '“p', '“r', '“s', '“t', '“u', '“w', '“y', '“‘', '”', '” ', '”—', '”…', '…', '… ', '…o']\n",
      "[' ', ' a', ' b', ' c', ' d', ' e', ' f', ' g', ' h', ' i', ' j', ' k', ' l', ' m', ' n', ' o', ' p', ' q', ' r', ' s', ' t', ' u', ' v', ' w', ' x', ' y', ' z', ' –', ' —', ' ‘', ' ’', ' “', ' ”', ' …', 'a', 'a ', 'ab', 'ac', 'ad', 'ae', 'af', 'ag', 'ah', 'ai', 'aj', 'ak', 'al', 'am', 'an', 'ao', 'ap', 'aq', 'ar', 'as', 'at', 'au', 'av', 'aw', 'ax', 'ay', 'az', 'aï', 'a—', 'a’', 'a”', 'b', 'b ', 'ba', 'bb', 'bc', 'be', 'bi', 'bj', 'bl', 'bm', 'bo', 'bp', 'br', 'bs', 'bt', 'bu', 'bv', 'by', 'c', 'c ', 'ca', 'cb', 'cc', 'cd', 'ce', 'cf', 'cg', 'ch', 'ci', 'cj', 'ck', 'cl', 'cn', 'co', 'cp', 'cq', 'cr', 'cs', 'ct', 'cu', 'cy', 'cz', 'c”', 'd', 'd ', 'da', 'db', 'dc', 'dd', 'de', 'df', 'dg', 'dh', 'di', 'dj', 'dl', 'dm', 'dn', 'do', 'dp', 'dq', 'dr', 'ds', 'dt', 'du', 'dv', 'dw', 'dy', 'd—', 'd’', 'd”', 'e', 'e ', 'ea', 'eb', 'ec', 'ed', 'ee', 'ef', 'eg', 'eh', 'ei', 'ej', 'ek', 'el', 'em', 'en', 'eo', 'ep', 'eq', 'er', 'es', 'et', 'eu', 'ev', 'ew', 'ex', 'ey', 'ez', 'e—', 'e’', 'e”', 'e…', 'f', 'f ', 'fa', 'fb', 'fe', 'ff', 'fg', 'fi', 'fk', 'fl', 'fo', 'fr', 'fs', 'ft', 'fu', 'fy', 'f’', 'g', 'g ', 'ga', 'gb', 'gd', 'ge', 'gg', 'gh', 'gi', 'gl', 'gm', 'gn', 'go', 'gr', 'gs', 'gt', 'gu', 'gy', 'g—', 'g’', 'g”', 'h', 'h ', 'ha', 'hb', 'hc', 'hd', 'he', 'hf', 'hi', 'hl', 'hm', 'hn', 'ho', 'hq', 'hr', 'hs', 'ht', 'hu', 'hw', 'hy', 'h—', 'h’', 'h”', 'i', 'i ', 'ia', 'ib', 'ic', 'id', 'ie', 'if', 'ig', 'ih', 'ii', 'ij', 'ik', 'il', 'im', 'in', 'io', 'ip', 'iq', 'ir', 'is', 'it', 'iu', 'iv', 'ix', 'iz', 'i–', 'i’', 'j', 'ja', 'je', 'jf', 'ji', 'jo', 'jr', 'jt', 'ju', 'k', 'k ', 'ka', 'kd', 'ke', 'kf', 'kg', 'ki', 'kl', 'kn', 'ko', 'kr', 'ks', 'ku', 'ky', 'k—', 'k’', 'k…', 'l', 'l ', 'la', 'lb', 'lc', 'ld', 'le', 'lf', 'lg', 'li', 'lk', 'll', 'lm', 'ln', 'lo', 'lp', 'lr', 'ls', 'lt', 'lu', 'lv', 'lw', 'ly', 'l—', 'l’', 'l”', 'l…', 'm', 'm ', 'ma', 'mb', 'mc', 'me', 'mf', 'mh', 'mi', 'ml', 'mm', 'mn', 'mo', 'mp', 'mr', 'ms', 'mu', 'mw', 'my', 'm—', 'm’', 'm”', 'n', 'n ', 'na', 'nb', 'nc', 'nd', 'ne', 'nf', 'ng', 'nh', 'ni', 'nj', 'nk', 'nl', 'nm', 'nn', 'no', 'np', 'nq', 'nr', 'ns', 'nt', 'nu', 'nv', 'nw', 'ny', 'n—', 'n’', 'n”', 'n…', 'o', 'o ', 'oa', 'ob', 'oc', 'od', 'oe', 'of', 'og', 'oh', 'oi', 'oj', 'ok', 'ol', 'om', 'on', 'oo', 'op', 'or', 'os', 'ot', 'ou', 'ov', 'ow', 'ox', 'oy', 'oz', 'o—', 'o’', 'p', 'p ', 'pa', 'pb', 'pd', 'pe', 'pg', 'ph', 'pi', 'pl', 'pm', 'pn', 'po', 'pp', 'pr', 'ps', 'pt', 'pu', 'pw', 'py', 'p’', 'p”', 'q', 'q ', 'qu', 'q’', 'r', 'r ', 'ra', 'rb', 'rc', 'rd', 're', 'rf', 'rg', 'rh', 'ri', 'rj', 'rk', 'rl', 'rm', 'rn', 'ro', 'rp', 'rq', 'rr', 'rs', 'rt', 'ru', 'rv', 'rw', 'ry', 'r—', 'r’', 'r”', 's', 's ', 'sa', 'sb', 'sc', 'sd', 'se', 'sf', 'sg', 'sh', 'si', 'sk', 'sl', 'sm', 'sn', 'so', 'sp', 'sq', 'sr', 'ss', 'st', 'su', 'sw', 'sy', 'sz', 's—', 's’', 's”', 's…', 't', 't ', 'ta', 'tb', 'tc', 'te', 'tf', 'tg', 'th', 'ti', 'tl', 'tm', 'tn', 'to', 'tp', 'tr', 'ts', 'tt', 'tu', 'tw', 'ty', 't—', 't’', 't”', 'u', 'u ', 'ua', 'ub', 'uc', 'ud', 'ue', 'uf', 'ug', 'uh', 'ui', 'uk', 'ul', 'um', 'un', 'uo', 'up', 'ur', 'us', 'ut', 'uu', 'uv', 'uw', 'ux', 'uy', 'uz', 'u—', 'u’', 'v', 'va', 'vc', 've', 'vi', 'vl', 'vn', 'vo', 'vs', 'vu', 'vy', 'w', 'w ', 'wa', 'wb', 'wd', 'we', 'wf', 'wh', 'wi', 'wl', 'wn', 'wo', 'wr', 'ws', 'wt', 'ww', 'w—', 'w’', 'w”', 'x', 'x ', 'xa', 'xc', 'xe', 'xi', 'xl', 'xo', 'xp', 'xr', 'xt', 'xu', 'xy', 'x”', 'y', 'y ', 'ya', 'yb', 'yc', 'yd', 'ye', 'yf', 'yg', 'yi', 'yk', 'yl', 'ym', 'yn', 'yo', 'yp', 'yr', 'ys', 'yt', 'yw', 'y—', 'y’', 'y”', 'y…', 'z', 'za', 'zb', 'ze', 'zi', 'zl', 'zo', 'zp', 'zu', 'zz', 'ï', 'ïv', '–', '– ', '–f', '—', '— ', '—a', '—b', '—c', '—d', '—e', '—h', '—i', '—k', '—l', '—o', '—p', '—r', '—s', '—t', '—u', '—v', '—w', '—y', '——', '‘', '‘f', '‘h', '‘i', '‘l', '‘m', '‘n', '‘s', '‘t', '‘w', '’', '’ ', '’d', '’l', '’m', '’n', '’r', '’s', '’t', '’v', '’’', '’”', '“', '“a', '“b', '“c', '“d', '“e', '“f', '“g', '“h', '“i', '“k', '“l', '“m', '“n', '“o', '“p', '“r', '“s', '“t', '“u', '“w', '“y', '“‘', '”', '” ', '”—', '”…', '…', '… ', '…o']\n",
      "[' ', ' a', ' b', ' c', ' d', ' e', ' f', ' g', ' h', ' i', ' j', ' k', ' l', ' m', ' n', ' o', ' p', ' q', ' r', ' s', ' t', ' u', ' v', ' w', ' x', ' y', ' z', ' –', ' —', ' ‘', ' ’', ' “', ' ”', ' …', 'a', 'a ', 'aa', 'ab', 'ac', 'ad', 'ae', 'af', 'ag', 'ah', 'ai', 'aj', 'ak', 'al', 'am', 'an', 'ao', 'ap', 'aq', 'ar', 'as', 'at', 'au', 'av', 'aw', 'ax', 'ay', 'az', 'aï', 'a—', 'a’', 'a”', 'b', 'b ', 'ba', 'bb', 'bc', 'be', 'bg', 'bh', 'bi', 'bj', 'bl', 'bm', 'bn', 'bo', 'bp', 'br', 'bs', 'bt', 'bu', 'bv', 'by', 'c', 'c ', 'ca', 'cb', 'cc', 'cd', 'ce', 'cf', 'cg', 'ch', 'ci', 'cj', 'ck', 'cl', 'cn', 'co', 'cp', 'cq', 'cr', 'cs', 'ct', 'cu', 'cy', 'cz', 'c’', 'c”', 'd', 'd ', 'da', 'db', 'dc', 'dd', 'de', 'df', 'dg', 'dh', 'di', 'dj', 'dl', 'dm', 'dn', 'do', 'dp', 'dq', 'dr', 'ds', 'dt', 'du', 'dv', 'dw', 'dy', 'd—', 'd’', 'd”', 'e', 'e ', 'ea', 'eb', 'ec', 'ed', 'ee', 'ef', 'eg', 'eh', 'ei', 'ej', 'ek', 'el', 'em', 'en', 'eo', 'ep', 'eq', 'er', 'es', 'et', 'eu', 'ev', 'ew', 'ex', 'ey', 'ez', 'e—', 'e’', 'e”', 'e…', 'f', 'f ', 'fa', 'fb', 'fe', 'ff', 'fg', 'fi', 'fk', 'fl', 'fo', 'fp', 'fr', 'fs', 'ft', 'fu', 'fy', 'f’', 'g', 'g ', 'ga', 'gb', 'gc', 'gd', 'ge', 'gf', 'gg', 'gh', 'gi', 'gl', 'gm', 'gn', 'go', 'gr', 'gs', 'gt', 'gu', 'gy', 'g—', 'g’', 'g”', 'h', 'h ', 'ha', 'hb', 'hc', 'hd', 'he', 'hf', 'hi', 'hl', 'hm', 'hn', 'ho', 'hq', 'hr', 'hs', 'ht', 'hu', 'hw', 'hy', 'h—', 'h’', 'h”', 'i', 'i ', 'ia', 'ib', 'ic', 'id', 'ie', 'if', 'ig', 'ih', 'ii', 'ij', 'ik', 'il', 'im', 'in', 'io', 'ip', 'iq', 'ir', 'is', 'it', 'iu', 'iv', 'iw', 'ix', 'iy', 'iz', 'i–', 'i’', 'j', 'ja', 'je', 'jf', 'ji', 'jo', 'jr', 'jt', 'ju', 'k', 'k ', 'ka', 'kd', 'ke', 'kf', 'kg', 'kh', 'ki', 'kl', 'kn', 'ko', 'kr', 'ks', 'ku', 'ky', 'k—', 'k’', 'k…', 'l', 'l ', 'la', 'lb', 'lc', 'ld', 'le', 'lf', 'lg', 'li', 'lk', 'll', 'lm', 'ln', 'lo', 'lp', 'lr', 'ls', 'lt', 'lu', 'lv', 'lw', 'ly', 'l—', 'l’', 'l”', 'l…', 'm', 'm ', 'ma', 'mb', 'mc', 'me', 'mf', 'mh', 'mi', 'ml', 'mm', 'mn', 'mo', 'mp', 'mr', 'ms', 'mu', 'mw', 'my', 'm—', 'm’', 'm”', 'n', 'n ', 'na', 'nb', 'nc', 'nd', 'ne', 'nf', 'ng', 'nh', 'ni', 'nj', 'nk', 'nl', 'nm', 'nn', 'no', 'np', 'nq', 'nr', 'ns', 'nt', 'nu', 'nv', 'nw', 'ny', 'n—', 'n’', 'n”', 'n…', 'o', 'o ', 'oa', 'ob', 'oc', 'od', 'oe', 'of', 'og', 'oh', 'oi', 'oj', 'ok', 'ol', 'om', 'on', 'oo', 'op', 'oq', 'or', 'os', 'ot', 'ou', 'ov', 'ow', 'ox', 'oy', 'oz', 'o—', 'o’', 'p', 'p ', 'pa', 'pb', 'pd', 'pe', 'pg', 'ph', 'pi', 'pl', 'pm', 'pn', 'po', 'pp', 'pr', 'ps', 'pt', 'pu', 'pw', 'py', 'p’', 'p”', 'q', 'q ', 'qa', 'qu', 'q’', 'r', 'r ', 'ra', 'rb', 'rc', 'rd', 're', 'rf', 'rg', 'rh', 'ri', 'rj', 'rk', 'rl', 'rm', 'rn', 'ro', 'rp', 'rq', 'rr', 'rs', 'rt', 'ru', 'rv', 'rw', 'ry', 'r—', 'r’', 'r”', 's', 's ', 'sa', 'sb', 'sc', 'sd', 'se', 'sf', 'sg', 'sh', 'si', 'sk', 'sl', 'sm', 'sn', 'so', 'sp', 'sq', 'sr', 'ss', 'st', 'su', 'sw', 'sy', 'sz', 's—', 's’', 's”', 's…', 't', 't ', 'ta', 'tb', 'tc', 'te', 'tf', 'tg', 'th', 'ti', 'tl', 'tm', 'tn', 'to', 'tp', 'tr', 'ts', 'tt', 'tu', 'tv', 'tw', 'ty', 't—', 't’', 't”', 'u', 'u ', 'ua', 'ub', 'uc', 'ud', 'ue', 'uf', 'ug', 'uh', 'ui', 'uk', 'ul', 'um', 'un', 'uo', 'up', 'ur', 'us', 'ut', 'uu', 'uv', 'uw', 'ux', 'uy', 'uz', 'u—', 'u’', 'v', 'v ', 'va', 'vc', 've', 'vi', 'vl', 'vn', 'vo', 'vs', 'vu', 'vy', 'w', 'w ', 'wa', 'wb', 'wd', 'we', 'wf', 'wh', 'wi', 'wl', 'wn', 'wo', 'wr', 'ws', 'wt', 'ww', 'wy', 'w—', 'w’', 'w”', 'x', 'x ', 'xa', 'xc', 'xe', 'xi', 'xl', 'xo', 'xp', 'xr', 'xt', 'xu', 'xy', 'x”', 'y', 'y ', 'ya', 'yb', 'yc', 'yd', 'ye', 'yf', 'yg', 'yi', 'yk', 'yl', 'ym', 'yn', 'yo', 'yp', 'yr', 'ys', 'yt', 'yu', 'yw', 'y—', 'y’', 'y”', 'y…', 'z', 'za', 'zb', 'ze', 'zi', 'zl', 'zo', 'zp', 'zu', 'zy', 'zz', 'ï', 'ïv', '–', '– ', '–f', '—', '— ', '—a', '—b', '—c', '—d', '—e', '—h', '—i', '—k', '—l', '—o', '—p', '—r', '—s', '—t', '—u', '—v', '—w', '—y', '——', '‘', '‘f', '‘h', '‘i', '‘l', '‘m', '‘n', '‘s', '‘t', '‘w', '’', '’ ', '’d', '’i', '’l', '’m', '’n', '’r', '’s', '’t', '’v', '’’', '’”', '“', '“a', '“b', '“c', '“d', '“e', '“f', '“g', '“h', '“i', '“k', '“l', '“m', '“n', '“o', '“p', '“r', '“s', '“t', '“u', '“w', '“y', '“‘', '”', '” ', '”—', '”…', '…', '… ', '…o']\n"
     ]
    }
   ],
   "source": [
    "from nltk.collocations import BigramCollocationFinder\n",
    "import nltk\n",
    "from sklearn.feature_extraction.text import CountVectorizer\n",
    "from nltk.probability import LidstoneProbDist\n",
    "import re\n",
    "import codecs\n",
    "import numpy as np\n",
    "import string\n",
    " \n",
    "# train char bigram models for each author\n",
    "models = dict()\n",
    "words_all = []\n",
    "translate_table = dict((ord(char), None) for char in string.punctuation)\n",
    "# reading the file in unicode format using codecs library    \n",
    "for df in [Coats, Mattis,Kelly,Hassett,Nielsen,Kudlow,Pence,Pompeo]:\n",
    "    text = df['text'].tolist()\n",
    "    author = df['author'].iloc[0]\n",
    "    for line in text:            \n",
    "        # extracting the text sentence from each line         \n",
    "        line = \" \".join(line.split())\n",
    "        line = line.lower()   # to lower case\n",
    "        line = re.sub(r\"\\d+\", \"\", line) # remove digits\n",
    "\n",
    "        if len(line) != 0:\n",
    "            line = line.translate(translate_table) # remove punctuations\n",
    "            words_all += line\n",
    "            words_all.append(\" \") # append sentences with space\n",
    "\n",
    "    all_str = ''.join(words_all)\n",
    "    all_str = re.sub(' +',' ',all_str) # replace series of spaces with single space\n",
    "    #print(all_str)\n",
    "#     seq_all = [i for i in all_str]  # list of all characters chronologically\n",
    "    \n",
    "    bigrammer = CountVectorizer(lowercase=True, ngram_range=(1,2), analyzer='char')\n",
    "    bigram_counts = bigrammer.fit_transform([all_str])\n",
    "    print(bigrammer.get_feature_names())\n",
    "\n",
    "#     # extracting the bi-grams and sorting them according to their frequencies\n",
    "#     finder = BigramCollocationFinder.from_words(seq_all)\n",
    "#     \"\"\"\n",
    "#     apply_freq_filter(5) removes all the bi-grams which have frequencies less than 5\n",
    "#     as they might not be a relevant bi-gram of the language.\n",
    "#     \"\"\"\n",
    "#     finder.apply_freq_filter(5)\n",
    "#     bigram_model = finder.ngram_fd.items()#.viewitems()\n",
    "#     bigram_model = sorted(bigram_model, key=lambda item: item[1],reverse=True)\n",
    "#     models[author] = bigram_model  # list of [((gram1, gram2), count)]\n",
    "\n",
    "    #bigram_lang_model = nltk.NgramModel(3,doc_words,estimator=lambda f,b: LidstoneProbDist(f,0.01,f.B()+1))\n",
    "    "
   ]
  },
  {
   "cell_type": "code",
   "execution_count": null,
   "metadata": {},
   "outputs": [],
   "source": [
    "\n",
    "\n",
    "#################### EXERCISE 4 ####################\n",
    "\n",
    "# Solution for exercise 4 - total entropy calculation\n",
    "# Input: lm (NgramModel language model), doc_name (string)\n",
    "# Output: e (float)\n",
    "def ex4_tot_entropy(lm, doc_name):\n",
    "    e = 0.0\n",
    "\n",
    "    # Construct a list of lowercase words from the document (test document)\n",
    "    doc_words = [w.lower() for w in gutenberg.words(doc_name)]\n",
    "\n",
    "    # Compute the total cross entropy of the text in doc_name\n",
    "    e = lm.entropy(doc_words, perItem=False)\n",
    "\n",
    "    # Return the entropy\n",
    "    return e\n",
    "\n",
    "# Solution for exercise 4 - per-word entropy calculation\n",
    "# Input: lm (NgramModel language model), doc_name (string)\n",
    "# Output: e (float)\n",
    "def ex4_perword_entropy(lm,doc_name):\n",
    "    e = 0.0\n",
    "\n",
    "    # Construct a list of lowercase words from the document (test document)\n",
    "    doc_words = [w.lower() for w in gutenberg.words(doc_name)]\n",
    "\n",
    "    # Compute the normalized cross entropy of the text in doc_name\n",
    "    e = lm.entropy(doc_words, perItem=True)\n",
    "\n",
    "    # Return the entropy\n",
    "    return e\n",
    "\n",
    "\n",
    "# Solution for exercise 4 - language model training\n",
    "# Input: doc_name (string)\n",
    "# Output: l (language model)\n",
    "def ex4_lm(doc_name):\n",
    "    l = None\n",
    "\n",
    "    # Construct a list of lowercase words from the document (training data for lm)\n",
    "    doc_words = [w.lower() for w in gutenberg.words(doc_name)]\n",
    "\n",
    "    # Train a trigram language model using doc_words and a Lidstone probability distribution with +0.01 added to the sample count for each bin\n",
    "    l = NgramModel(3,doc_words,estimator=lambda f, b:LidstoneProbDist(f,0.01,f.B()+1))\n",
    "\n",
    "    # Return the language model\n",
    "    return l\n",
    "\n"
   ]
  },
  {
   "cell_type": "code",
   "execution_count": 8,
   "metadata": {},
   "outputs": [],
   "source": [
    "#print(models)"
   ]
  },
  {
   "cell_type": "code",
   "execution_count": null,
   "metadata": {},
   "outputs": [],
   "source": [
    "from nltk.collocations import BigramCollocationFinder\n",
    "import re\n",
    "import codecs\n",
    "import numpy as np\n",
    "import string\n",
    "         \n",
    "def test_language(path,language,total):\n",
    "    tp = 0\n",
    "    fp = 0\n",
    "    lang_name = [\"english\",\"german\",\"french\",\"italian\",\"dutch\",\"spanish\"]\n",
    "    model = [np.load(lang+\".npy\") for lang in lang_name]\n",
    "    \n",
    "    \n",
    "    with codecs.open(path,\"r\",\"utf-8\") as filep:\n",
    "        translate_table = dict((ord(char), None) for char in string.punctuation)\n",
    "        for l,line in enumerate(filep):\n",
    "             \n",
    "            line = \" \".join(line.split()[1:])\n",
    "            line = line.lower()\n",
    "            line = re.sub(r\"\\d+\", \"\", line)\n",
    "            line = line.translate(translate_table)\n",
    "             \n",
    "            finder = BigramCollocationFinder.from_words(line)\n",
    "                         \n",
    "            freq_sum = np.zeros(6)                        \n",
    "            for k,v in finder.ngram_fd.items():                 \n",
    "                isthere = 0\n",
    "                for i,lang in enumerate(lang_name):                    \n",
    "                    for key,f in model[i]:\n",
    "                        if k == key:                            \n",
    "                            freq_sum[i] = freq_sum[i]+(f*10000)/total[i]\n",
    "                            isthere = 1\n",
    "                            break\n",
    "                    if isthere == 0:\n",
    "                        freq_sum[i] = freq_sum[i] + 1\n",
    "                                 \n",
    "            max_val = freq_sum.max()\n",
    "            index= freq_sum.argmax()\n",
    "            if max_val != 0:                \n",
    "                if lang_name[index] == language:\n",
    "                    tp = tp + 1\n",
    "                else:\n",
    "                    fp = fp + 1\n",
    "            print \"tp = \",tp,\"fp = \",fp,freq_sum\n",
    "    print \"True Positive = \",tp\n",
    "    print \"False Positive = \",fp                \n",
    "               \n",
    "\n",
    "root = \"test\\\\\"\n",
    "lang_name = [\"english\",\"german\",\"french\",\"italian\",\"dutch\",\"spanish\"]\n",
    "\n",
    "\"\"\"\n",
    "for each lang, load model\n",
    "count total number of transitions observed during training\n",
    "\"\"\"\n",
    "no_of_bigms = []\n",
    "for i,lang in enumerate(lang_name):\n",
    "    model = np.load(lang+\".npy\")\n",
    "    total = 0\n",
    "    for key,v in model:            \n",
    "        total = total + v\n",
    "    no_of_bigms.append(total) \n",
    "    print total\n",
    "\n",
    "\"\"\"\n",
    "test training accuracy\n",
    "\"\"\"\n",
    "train_lang_path = [\"eng_news_2015_10K\\\\eng_news_2015_10K-sentences.txt\",\"deu_news_2015_10K\\\\deu_news_2015_10K-sentences.txt\",\"fra_news_2010_10K-text\\\\fra_news_2010_10K-sentences.txt\",\"ita_news_2010_10K-text\\\\ita_news_2010_10K-sentences.txt\",\"nld_wikipedia_2016_10K\\\\nld_wikipedia_2016_10K-sentences.txt\",\"spa_news_2011_10K\\\\spa_news_2011_10K-sentences.txt\"]\n",
    "for i,p in enumerate(train_lang_path):\n",
    "    print \"Testing of \",lang_name[i]\n",
    "    test_language(root+p,lang_name[i],no_of_bigms)"
   ]
  },
  {
   "cell_type": "markdown",
   "metadata": {},
   "source": [
    "John Kelley told Donald to let it go https://www.huffingtonpost.com/entry/stephen-colbert-identity-new-york-times-op-ed-author_us_5b971851e4b0162f47302cfei"
   ]
  }
 ],
 "metadata": {
  "kernelspec": {
   "display_name": "Python 3",
   "language": "python",
   "name": "python3"
  },
  "language_info": {
   "codemirror_mode": {
    "name": "ipython",
    "version": 3
   },
   "file_extension": ".py",
   "mimetype": "text/x-python",
   "name": "python",
   "nbconvert_exporter": "python",
   "pygments_lexer": "ipython3",
   "version": "3.6.4"
  }
 },
 "nbformat": 4,
 "nbformat_minor": 2
}
